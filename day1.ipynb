{
 "cells": [
  {
   "cell_type": "markdown",
   "id": "b4d6161f",
   "metadata": {},
   "source": [
    " \n",
    "Python Functions\n",
    "1. Prime Number Finder\n",
    " \n",
    "   * Function that returns all prime numbers up to `n`.\n",
    "   * Input: `n = 20`\n",
    "   * Output: `[2, 3, 5, 7, 11, 13, 17, 19]`\n"
   ]
  },
  {
   "cell_type": "code",
   "execution_count": null,
   "id": "dc5f8436",
   "metadata": {},
   "outputs": [
    {
     "name": "stdout",
     "output_type": "stream",
     "text": [
      "[2, 3, 5, 7, 11, 13, 17, 19]\n"
     ]
    }
   ],
   "source": [
    "def is_prime(num):\n",
    "    if num < 2:\n",
    "        return False\n",
    "    for i in range(2, int(num**0.5)+1):\n",
    "        if num % i == 0:\n",
    "            return False\n",
    "    return True\n",
    "def prime_numbers(n):\n",
    "    primes = []\n",
    "    for i in range(2, n + 1):\n",
    "        if is_prime(i):\n",
    "            primes.append(i)\n",
    "    return primes\n",
    "a = int(input(\"Enter a number for finding prime numbers up to that number: \"))\n",
    "print(prime_numbers(a))"
   ]
  },
  {
   "cell_type": "markdown",
   "id": "fe2510a4",
   "metadata": {},
   "source": [
    "2. Palindrome Checker\n",
    " \n",
    "   * Check if a string is palindrome (ignoring spaces & case).\n",
    "   * Input: `\"Never odd or even\"`\n",
    "   * Output: `True`\n"
   ]
  },
  {
   "cell_type": "code",
   "execution_count": 8,
   "id": "88b71208",
   "metadata": {},
   "outputs": [
    {
     "name": "stdout",
     "output_type": "stream",
     "text": [
      "True\n"
     ]
    }
   ],
   "source": [
    "def is_palindrome(s):\n",
    "    s = s.replace(\" \", \"\").lower()\n",
    "    return s == s[::-1]\n",
    "print(is_palindrome(\"Never odd or even\"))"
   ]
  },
  {
   "cell_type": "markdown",
   "id": "fb391522",
   "metadata": {},
   "source": [
    "3. Anagram Checker\n",
    " \n",
    "   * Function checks if two words are anagrams.\n",
    "   * Input: `\"listen\", \"silent\"`\n",
    "   * Output: `True`\n"
   ]
  },
  {
   "cell_type": "code",
   "execution_count": 9,
   "id": "9b5a90cb",
   "metadata": {},
   "outputs": [
    {
     "name": "stdout",
     "output_type": "stream",
     "text": [
      "True\n"
     ]
    }
   ],
   "source": [
    "def anagram_check(str1,str2):\n",
    "    s = str1.replace(\" \",\"\").lower()\n",
    "    s2 = str2.replace(\" \",\"\").lower()\n",
    "    return sorted(s) == sorted(s2)\n",
    "print(anagram_check(\"listen\",\"silent\"))"
   ]
  },
  {
   "cell_type": "markdown",
   "id": "8726177c",
   "metadata": {},
   "source": [
    "4. Count Vowels & Consonants\n",
    " \n",
    "   * Return count of vowels & consonants.\n",
    "   * Input: `\"hello\"`\n",
    "   * Output: `Vowels=2, Consonants=3`\n"
   ]
  },
  {
   "cell_type": "code",
   "execution_count": 10,
   "id": "f6ce3d36",
   "metadata": {},
   "outputs": [
    {
     "name": "stdout",
     "output_type": "stream",
     "text": [
      "(2, 3)\n"
     ]
    }
   ],
   "source": [
    "def count_vowels_consonants(s):\n",
    "    vowels = \"aeiouAEIOU\"\n",
    "    v_count = 0\n",
    "    c_count = 0\n",
    "    for char in s:\n",
    "        if char.isalpha():\n",
    "            if char in vowels:\n",
    "                v_count += 1\n",
    "            else:\n",
    "                c_count += 1\n",
    "    return v_count, c_count\n",
    "print(count_vowels_consonants(\"hello\"))"
   ]
  },
  {
   "cell_type": "markdown",
   "id": "7b0b2ca0",
   "metadata": {},
   "source": [
    "5. Longest Word Finder\n",
    " \n",
    "* Return longest word in a sentence.\n",
    "* Input: `\"Python is amazing\"`\n",
    "* Output: `\"amazing\"`\n"
   ]
  },
  {
   "cell_type": "code",
   "execution_count": null,
   "id": "56a105b1",
   "metadata": {},
   "outputs": [
    {
     "name": "stdout",
     "output_type": "stream",
     "text": [
      "amazing\n"
     ]
    }
   ],
   "source": [
    "def longest_word(sentence):\n",
    "    words = sentence.split()\n",
    "    longest = max(words, key=len)\n",
    "    return longest\n",
    "print(longest_word(\"Python is amazing\"))"
   ]
  },
  {
   "cell_type": "markdown",
   "id": "691f904f",
   "metadata": {},
   "source": [
    "Python Modules (5 challenges)\n",
    " \n",
    "1. Random Password Generator (`random`, `string`)\n",
    " \n",
    "* Input: `length=6`\n",
    "* Output: `\"aB9@xQ\"`\n"
   ]
  },
  {
   "cell_type": "code",
   "execution_count": null,
   "id": "767128d2",
   "metadata": {},
   "outputs": [
    {
     "name": "stdout",
     "output_type": "stream",
     "text": [
      "V$3deD?W+/\n"
     ]
    }
   ],
   "source": [
    "import random\n",
    "import string\n",
    "def generate_password(length):\n",
    "    if length < 4:\n",
    "        return \"Password length should be at least 4\"\n",
    "    all_chars = string.ascii_letters + string.digits + string.punctuation\n",
    "    password = [\n",
    "        random.choice(string.ascii_lowercase),\n",
    "        random.choice(string.ascii_uppercase),\n",
    "        random.choice(string.digits),\n",
    "        random.choice(string.punctuation)\n",
    "    ]\n",
    "    password += random.choices(all_chars, k=length-4)\n",
    "    random.shuffle(password)\n",
    "    return ''.join(password)\n",
    "\n",
    "print(generate_password(10))"
   ]
  },
  {
   "cell_type": "markdown",
   "id": "28155add",
   "metadata": {},
   "source": [
    "2. Simple Calculator with `math`\n",
    " \n",
    "* Perform sqrt, factorial, sin, cos.\n",
    "* Input: `sqrt(25)`\n",
    "* Output: `5.0`\n"
   ]
  },
  {
   "cell_type": "code",
   "execution_count": 7,
   "id": "fee51ee4",
   "metadata": {},
   "outputs": [
    {
     "name": "stdout",
     "output_type": "stream",
     "text": [
      "5.0\n"
     ]
    }
   ],
   "source": [
    "import math\n",
    "\n",
    "expr = input(\"Enter expression: \")\n",
    "\n",
    "try:\n",
    "    result = eval(\"math.\" + expr)\n",
    "    print(result)\n",
    "except Exception as e:\n",
    "    print(\"Error:\", e)\n"
   ]
  },
  {
   "cell_type": "markdown",
   "id": "e78b5e19",
   "metadata": {},
   "source": [
    "3. Word Frequency Counter (`collections.Counter`)\n",
    " \n",
    "* Input: `\"cat dog cat\"`\n",
    "* Output: `{'cat':2,'dog':1}`\n"
   ]
  },
  {
   "cell_type": "code",
   "execution_count": null,
   "id": "f7d7c1d7",
   "metadata": {},
   "outputs": [
    {
     "name": "stdout",
     "output_type": "stream",
     "text": [
      "Counter({'apple': 3, 'banana': 2, 'orange': 1})\n"
     ]
    }
   ],
   "source": [
    "import collections \n",
    "def count_elements(lst):\n",
    "    return collections.Counter(lst)\n",
    "print(count_elements(['apple', 'banana', 'apple', 'orange', 'banana', 'apple']))"
   ]
  },
  {
   "cell_type": "markdown",
   "id": "59636549",
   "metadata": {},
   "source": [
    "4. Weather Simulator (`random`)\n",
    " \n",
    "* Input: None\n",
    "* Output: `\"Weather: Sunny, Temp: 32°C\"`\n"
   ]
  },
  {
   "cell_type": "code",
   "execution_count": null,
   "id": "e4a46f0c",
   "metadata": {},
   "outputs": [],
   "source": [
    "import random\n",
    "\n",
    "weather_conditions = [\"Sunny\", \"Cloudy\", \"Rainy\", \"Windy\", \"Stormy\", \"Snowy\"]\n",
    "temperatures = range(-5, 41)\n",
    "\n",
    "conditions = random.choice(weather_conditions)\n",
    "temperature = random.choice(temperatures)\n",
    "\n",
    "print(f\"Wether: {conditions}, Temperature: {temperature}°C\")"
   ]
  },
  {
   "cell_type": "markdown",
   "id": "c57b3a74",
   "metadata": {},
   "source": [
    "5. Timer Program (`time`)\n",
    " \n",
    "* Input: `countdown(5)`\n",
    "* Output:\n",
    " \n",
    "  ```\n",
    "  5  \n",
    "  4  \n",
    "  3  \n",
    "  2  \n",
    "  1  \n",
    "  Time’s up!\n"
   ]
  },
  {
   "cell_type": "code",
   "execution_count": 1,
   "id": "05c491ae",
   "metadata": {},
   "outputs": [
    {
     "name": "stdout",
     "output_type": "stream",
     "text": [
      "5\n",
      "4\n",
      "3\n",
      "2\n",
      "1\n",
      "Time's up!\n"
     ]
    }
   ],
   "source": [
    "import time\n",
    "\n",
    "def countdown(seconds):\n",
    "    while seconds:\n",
    "        print(seconds)\n",
    "        time.sleep(1)\n",
    "        seconds -= 1\n",
    "    print(\"Time's up!\")\n",
    "\n",
    "countdown(5)"
   ]
  },
  {
   "cell_type": "markdown",
   "id": "07cc6e03",
   "metadata": {},
   "source": [
    "Python OOPs (5 challenges)\n",
    " \n",
    "1. Bank Account Class\n",
    " \n",
    "Attributes:\n",
    " \n",
    "* `balance` → stores the current money in the account\n",
    "* `owner` (optional) → name of account holder\n",
    " \n",
    "Methods:\n",
    " \n",
    "* `deposit(amount)` → adds money to balance\n",
    "* `withdraw(amount)` → subtracts money if enough funds\n",
    "* `get_balance()` → returns balance\n",
    " \n",
    "Example:\n",
    " \n",
    "```python\n",
    "acc = BankAccount(100)   # initial balance = 100\n",
    "acc.deposit(50)          # balance = 150\n",
    "acc.withdraw(30)         # balance = 120\n",
    "print(acc.get_balance())\n",
    "```\n",
    " \n",
    "Output:\n",
    " \n",
    "Balance: 120"
   ]
  },
  {
   "cell_type": "code",
   "execution_count": null,
   "id": "65a7b52f",
   "metadata": {},
   "outputs": [
    {
     "name": "stdout",
     "output_type": "stream",
     "text": [
      "Balance is  150\n",
      "Balance is  120\n",
      "Balance is  120\n"
     ]
    }
   ],
   "source": [
    "class BankAcc:\n",
    "\n",
    "    def __init__(self, balance, owner):\n",
    "        self.balance = balance\n",
    "        self.owner = owner\n",
    "    \n",
    "    def deposit(self, num):\n",
    "        self.balance += num\n",
    "        print(\"Balance is \", self.balance)\n",
    "    \n",
    "    def withdraw(self, num):\n",
    "        self.balance -= num\n",
    "        print(\"Balance is \", self.balance)\n",
    "\n",
    "    def get_balance(self):\n",
    "        print(\"Balance is \", self.balance)\n",
    "\n",
    "acc = BankAcc(100, \"Kamal\")\n",
    "acc.deposit(50)\n",
    "acc.withdraw(30)\n",
    "acc.get_balance()\n"
   ]
  },
  {
   "cell_type": "markdown",
   "id": "5382a829",
   "metadata": {},
   "source": [
    "2. Student Class with Average\n",
    " \n",
    "Attributes:\n",
    " \n",
    "* `name` → student name\n",
    "* `marks` → list of student marks `[90, 80, 85]`\n",
    " \n",
    "Methods:\n",
    " \n",
    "* `get_average()` → returns average marks\n",
    "* `add_mark(mark)` → add new score\n",
    "* `get_highest()` → return highest mark\n",
    "* `get_lowest()` → return lowest mark\n",
    " \n",
    "Example:\n",
    " \n",
    "```python\n",
    "s = Student(\"Tom\", [90, 80, 85])\n",
    "print(s.get_average())   # (90+80+85)/3 = 85.0\n",
    "s.add_mark(95)           # marks = [90,80,85,95]\n",
    "print(s.get_highest())   # 95\n",
    "```\n",
    " \n",
    "Output:\n",
    " \n",
    "```\n",
    "85.0\n",
    "95\n",
    "```\n",
    " \n",
    "---\n",
    " "
   ]
  },
  {
   "cell_type": "code",
   "execution_count": null,
   "id": "cdf20c81",
   "metadata": {},
   "outputs": [
    {
     "name": "stdout",
     "output_type": "stream",
     "text": [
      "Average :  40.0\n",
      "Marks are : [30, 50, 40, 60]\n",
      "Highest number is :  60\n"
     ]
    }
   ],
   "source": [
    "class Student:\n",
    "    def __init__(self, name, marks):\n",
    "        self.name = name\n",
    "        self.marks = marks\n",
    "\n",
    "    def get_average(self):\n",
    "        avg = sum(self.marks)/len(self.marks)\n",
    "        print(\"Average : \", avg)\n",
    "\n",
    "    def add_mark(self, num):\n",
    "        self.marks.append(num)\n",
    "        print(\"Marks are :\", self.marks)\n",
    "\n",
    "    def get_highest(self):\n",
    "        print(\"Highest number is : \", max(self.marks))\n",
    "        \n",
    "s = Student(\"Kamal\", [30,50,40])\n",
    "s.get_average()\n",
    "s.add_mark(60)\n",
    "s.get_highest()"
   ]
  },
  {
   "cell_type": "markdown",
   "id": "253f3c24",
   "metadata": {},
   "source": [
    "3. Employee Bonus System\n",
    " \n",
    "Attributes:\n",
    " \n",
    "* `name` → employee name\n",
    "* `salary` → base salary\n",
    "* `role` → role of employee (e.g., Manager, Developer, Intern)\n",
    " \n",
    "Methods:\n",
    " \n",
    "* `bonus()` → calculates bonus depending on role:\n",
    " \n",
    "  * Manager → 20% of salary\n",
    "  * Developer → 10% of salary\n",
    "  * Intern → 5% of salary\n",
    " \n",
    "Example:\n",
    " \n",
    "```python\n",
    "m = Manager(\"Alice\", 50000)\n",
    "print(m.bonus())\n",
    "```\n",
    " \n",
    "Output:\n",
    " \n",
    "```\n",
    "10000\n",
    "```\n",
    " \n",
    "---"
   ]
  },
  {
   "cell_type": "code",
   "execution_count": 6,
   "id": "4a1be2a6",
   "metadata": {},
   "outputs": [
    {
     "name": "stdout",
     "output_type": "stream",
     "text": [
      "10000.0\n"
     ]
    }
   ],
   "source": [
    "class Employee:\n",
    "    def __init__(self, name, salary, role):\n",
    "        self.name = name\n",
    "        self.salary = salary\n",
    "        self.role = role\n",
    "\n",
    "    def bonus(self):\n",
    "        pass\n",
    "\n",
    "\n",
    "class Manager(Employee):\n",
    "    def __init__(self, name, salary):\n",
    "        super().__init__(name, salary, \"Manager\")\n",
    "\n",
    "    def bonus(self):\n",
    "        return self.salary * 0.20\n",
    "\n",
    "\n",
    "class Developer(Employee):\n",
    "    def __init__(self, name, salary):\n",
    "        super().__init__(name, salary, \"Developer\")\n",
    "\n",
    "    def bonus(self):\n",
    "        return self.salary * 0.10\n",
    "\n",
    "\n",
    "class Intern(Employee):\n",
    "    def __init__(self, name, salary):\n",
    "        super().__init__(name, salary, \"Intern\")\n",
    "\n",
    "    def bonus(self):\n",
    "        return self.salary * 0.05\n",
    "\n",
    "\n",
    "m = Manager(\"Alice\", 50000)\n",
    "print(m.bonus())"
   ]
  },
  {
   "cell_type": "markdown",
   "id": "3963d282",
   "metadata": {},
   "source": [
    "4. Shape Area Calculator\n",
    " \n",
    "Base Class (Shape):\n",
    " \n",
    "*Attribute: `name`\n",
    "*Method: `area()` → to be overridden by subclasses\n",
    " \n",
    "Subclasses:\n",
    " \n",
    "* `Circle(radius)` → area = π × r²\n",
    "* `Rectangle(width, height)` → area = width × height\n",
    " \n",
    "Example:\n",
    " \n",
    "```python\n",
    "c = Circle(7)\n",
    "print(c.area())\n",
    "r = Rectangle(4, 5)\n",
    "print(r.area())\n",
    "```\n",
    " \n",
    "Output:\n",
    " \n",
    "```\n",
    "153.94\n",
    "20\n",
    "```\n",
    " \n",
    "---\n"
   ]
  },
  {
   "cell_type": "code",
   "execution_count": null,
   "id": "7ea25aba",
   "metadata": {},
   "outputs": [
    {
     "name": "stdout",
     "output_type": "stream",
     "text": [
      "153.94\n",
      "20\n"
     ]
    }
   ],
   "source": [
    "import math\n",
    "\n",
    "class Shape:\n",
    "    def __init__(self, name):\n",
    "        self.name = name\n",
    "\n",
    "    def area(self):\n",
    "        pass\n",
    "\n",
    "\n",
    "class Circle(Shape):\n",
    "    def __init__(self, radius):\n",
    "        super().__init__(\"Circle\")\n",
    "        self.radius = radius\n",
    "\n",
    "    def area(self):\n",
    "        return round(math.pi * self.radius ** 2, 2)\n",
    "\n",
    "\n",
    "class Rectangle(Shape):\n",
    "    def __init__(self, width, height):\n",
    "        super().__init__(\"Rectangle\")\n",
    "        self.width = width\n",
    "        self.height = height\n",
    "\n",
    "    def area(self):\n",
    "        return self.width * self.height\n",
    "\n",
    "\n",
    "# Example\n",
    "c = Circle(7)\n",
    "print(c.area())\n",
    "\n",
    "r = Rectangle(4, 5)\n",
    "print(r.area())\n"
   ]
  },
  {
   "cell_type": "markdown",
   "id": "1a8f53f5",
   "metadata": {},
   "source": [
    "5. E-commerce Order Class\n",
    " \n",
    "Attributes:\n",
    " \n",
    "* `items` → dictionary of items `{name: price}`\n",
    " \n",
    "Methods:\n",
    " \n",
    "* `add(item, price)` → adds an item to order\n",
    "* `remove(item)` → removes item\n",
    "* `calculate_total()` → returns total price of all items\n",
    "* `show_items()` → lists all items in order\n",
    " \n",
    "Example:\n",
    " \n",
    "```python\n",
    "order = Order()\n",
    "order.add(\"Shirt\", 500)\n",
    "order.add(\"Shoes\", 1500)\n",
    "print(order.calculate_total())\n",
    "```\n",
    " \n",
    "Output:\n",
    " \n",
    "```\n",
    "Total = 2000\n",
    "```\n"
   ]
  },
  {
   "cell_type": "code",
   "execution_count": 4,
   "id": "0f327399",
   "metadata": {},
   "outputs": [
    {
     "name": "stdout",
     "output_type": "stream",
     "text": [
      "Total :  2000\n",
      "None\n"
     ]
    }
   ],
   "source": [
    "class Order:\n",
    "    def __init__(self):\n",
    "        self.items = {}\n",
    "    \n",
    "    def add_item(self, item, price):\n",
    "        self.items[item] = price\n",
    "    \n",
    "    def remove_item(self, item, price):\n",
    "        if item in self.items:\n",
    "            del self.items[item]\n",
    "        else:\n",
    "            print(\"Item not found\")\n",
    "        \n",
    "    def calculate_total(self):\n",
    "        total = sum(self.items.values())\n",
    "        print(\"Total : \", total)\n",
    "\n",
    "order = Order()\n",
    "order.add_item(\"Shirt\", 500)\n",
    "order.add_item(\"Shoes\", 1500)\n",
    "print(order.calculate_total())"
   ]
  }
 ],
 "metadata": {
  "kernelspec": {
   "display_name": "Python 3",
   "language": "python",
   "name": "python3"
  },
  "language_info": {
   "codemirror_mode": {
    "name": "ipython",
    "version": 3
   },
   "file_extension": ".py",
   "mimetype": "text/x-python",
   "name": "python",
   "nbconvert_exporter": "python",
   "pygments_lexer": "ipython3",
   "version": "3.11.13"
  }
 },
 "nbformat": 4,
 "nbformat_minor": 5
}
