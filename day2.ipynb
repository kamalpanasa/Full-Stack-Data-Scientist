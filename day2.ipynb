{
 "cells": [
  {
   "cell_type": "markdown",
   "id": "c6fee9f6",
   "metadata": {},
   "source": [
    "1. Problem: Given a text file, count the total number of words.\n",
    "2. Problem: Write a program to check if a password is strong (at least 8 characters, contains uppercase, lowercase, digit, and special char).\n",
    "3. Problem: Implement a calculator with +, -, *, / operations.\n",
    "4. Problem: Given a list of student names, find duplicates.\n",
    "5. Problem: Convert between Celsius and Fahrenheit.\n",
    "6. Problem: Find the largest number from a list of integers.\n",
    "7. Problem: Calculate Simple Interest.\n",
    "8. Problem: Given a dictionary of student names and attendance %, find defaulters (<75%).\n",
    "9. Problem: Input: 1234 → Output: 10\n",
    "10. Problem: Write a function to check if a number is prime.\n",
    "11. Problem: Find smallest and largest numbers from a list.\n",
    "12. Problem: Given items with prices in a dictionary, calculate total bill.\n",
    "13. Problem: Input 3 numbers, print the largest.\n",
    "14. Problem: Count how many times each character appears in a string.\n",
    "15. Problem: Calculate electricity bill:\n",
    "First 100 units → ₹5/unit\n",
    "Next 100 units → ₹7/unit\n",
    "Above 200 units → ₹10/unit\n",
    "16. Problem: Sort a list of names in ascending order.\n",
    "17. Problem: Input: 1234 → Output: 4321\n",
    "18. Problem: Given a list, count positive, negative, and zero numbers.\n",
    "19. Problem: User has 3 attempts to enter correct PIN.\n",
    "20. Problem: Write a program that asks for two numbers and divides them. Handle division by zero.\n",
    "21. Problem: Write a program that handles both ValueError (invalid input) and ZeroDivisionError.\n",
    "22. Problem: If withdrawal amount is greater than balance, raise an exception.\n",
    "23. Problem: Calculate total price, handle invalid input, and always show \"Bill processing finished\".\n",
    "• First 100 units → ₹5/unit\n",
    "• Next 100 units → ₹7/unit\n",
    "• Above 200 units → ₹10/uni"
   ]
  },
  {
   "cell_type": "code",
   "execution_count": null,
   "id": "eb716101",
   "metadata": {},
   "outputs": [
    {
     "name": "stdout",
     "output_type": "stream",
     "text": [
      "31\n"
     ]
    }
   ],
   "source": [
    "#1 counting the characters in a file\n",
    "read_file = open(\"requirements.txt\", \"r\")\n",
    "data = read_file.read()\n",
    "print(len(data))\n",
    "read_file.close()"
   ]
  },
  {
   "cell_type": "code",
   "execution_count": 16,
   "id": "3942807b",
   "metadata": {},
   "outputs": [
    {
     "name": "stdout",
     "output_type": "stream",
     "text": [
      "Weak password\n"
     ]
    }
   ],
   "source": [
    "#2 Strong password or not\n",
    "import re\n",
    "str = input(\"Enter the password:\")\n",
    "if (len(str) >= 8 and re.search(\"[0-9]\", str) and re.search(\"[a-z]\", str) and re.search(\"[A-Z]\", str) and re.search(\"[^#&%_]\", str)):\n",
    "    print(\"Strong password\")\n",
    "else:\n",
    "    print(\"Weak password\")"
   ]
  },
  {
   "cell_type": "code",
   "execution_count": null,
   "id": "b966f14a",
   "metadata": {},
   "outputs": [
    {
     "name": "stdout",
     "output_type": "stream",
     "text": [
      "14\n"
     ]
    }
   ],
   "source": [
    "# 3 implementing a simple calculator\n",
    "exp = input(\"Enter the expression (like 5+6, etc ...):\")\n",
    "print(eval(exp))"
   ]
  },
  {
   "cell_type": "code",
   "execution_count": 31,
   "id": "2cb51d3b",
   "metadata": {},
   "outputs": [
    {
     "name": "stdout",
     "output_type": "stream",
     "text": [
      "kamal\n"
     ]
    }
   ],
   "source": [
    "del list\n",
    "from collections import Counter\n",
    "list1 = list(input().split())\n",
    "dict = Counter(list1)\n",
    "for i in dict:\n",
    "    if dict[i] > 1:\n",
    "        print(i)"
   ]
  },
  {
   "cell_type": "code",
   "execution_count": null,
   "id": "c8397e15",
   "metadata": {},
   "outputs": [
    {
     "name": "stdout",
     "output_type": "stream",
     "text": [
      "98.6f  in Farenheit is : 36.99999999999999\n"
     ]
    }
   ],
   "source": [
    "str = input()\n",
    "\n",
    "if (str.endswith(\"C\") or str.endswith(\"c\")):\n",
    "    a = float(str[:-1])\n",
    "    a = a*1.8 + 32\n",
    "    print(str, \" in Farenheit is :\", a)\n",
    "if (str.endswith(\"F\") or str.endswith(\"f\")):\n",
    "    a = float(str[:-1])\n",
    "    a = (a-32)/1.8\n",
    "    print(str, \" in Celsius is :\", a)"
   ]
  },
  {
   "cell_type": "code",
   "execution_count": 38,
   "id": "08806340",
   "metadata": {},
   "outputs": [
    {
     "name": "stdout",
     "output_type": "stream",
     "text": [
      "Max element is 8\n"
     ]
    }
   ],
   "source": [
    "list1 = list(map(int,input().split(\" \")))\n",
    "\n",
    "print(\"Max element is\",max(list1))"
   ]
  },
  {
   "cell_type": "code",
   "execution_count": 40,
   "id": "adbbef6a",
   "metadata": {},
   "outputs": [
    {
     "name": "stdout",
     "output_type": "stream",
     "text": [
      "Simple Interest of 5000, 5, 2 is 500.0\n"
     ]
    }
   ],
   "source": [
    "a,b,c = map(int, input(\"Enter Principle Rate and Time:\").split(\" \"))\n",
    "simple_interest = (a*b*c)/100\n",
    "print(f\"Simple Interest of {a}, {b}, {c} is {simple_interest}\")"
   ]
  },
  {
   "cell_type": "code",
   "execution_count": null,
   "id": "d113751a",
   "metadata": {},
   "outputs": [
    {
     "name": "stdout",
     "output_type": "stream",
     "text": [
      "['kamal', 'aravind', 'vilohith']\n"
     ]
    }
   ],
   "source": [
    "def attendence(dict):\n",
    "    list1 = []\n",
    "    for i in dict:\n",
    "        if(dict[i]<=75):\n",
    "            list1.append(i)\n",
    "    print(list1)\n",
    "\n",
    "dict1 = {\"kamal\" : 50,\"aravind\" : 69, \"vilohith\" : 75}\n",
    "attendence(dict1"
   ]
  },
  {
   "cell_type": "code",
   "execution_count": 51,
   "id": "decbdf0d",
   "metadata": {},
   "outputs": [
    {
     "name": "stdout",
     "output_type": "stream",
     "text": [
      "The digit sum is: 10\n"
     ]
    }
   ],
   "source": [
    "def digit_sum(num):\n",
    "    div = 0\n",
    "    sum1 = 0\n",
    "    while num>0:\n",
    "        div = num%10\n",
    "        sum1 += div\n",
    "        num //= 10\n",
    "    return sum1\n",
    "a = int(input(\"Enter the number\"))\n",
    "print(\"The digit sum is:\", digit_sum(a))"
   ]
  },
  {
   "cell_type": "code",
   "execution_count": 52,
   "id": "76ed7476",
   "metadata": {},
   "outputs": [
    {
     "name": "stdout",
     "output_type": "stream",
     "text": [
      "The given number is prime\n"
     ]
    }
   ],
   "source": [
    "def is_prime(num):\n",
    "    if num == 1:\n",
    "        return True\n",
    "    else:\n",
    "        for i in range(2, int(num**0.5)+1):\n",
    "            if num%i == 0:\n",
    "                return False\n",
    "        return True\n",
    "\n",
    "n = int(input(\"Enter the number:\"))\n",
    "if(is_prime(n)):\n",
    "    print(\"The given number is prime\")\n",
    "else:\n",
    "    print(\"The given number is not prime\")"
   ]
  },
  {
   "cell_type": "code",
   "execution_count": 53,
   "id": "d796f27b",
   "metadata": {},
   "outputs": [
    {
     "name": "stdout",
     "output_type": "stream",
     "text": [
      "Largest is 8 and Smallest is 2\n"
     ]
    }
   ],
   "source": [
    "list1 = list(map(int, input(\"Enter the elements of list:\").split(\" \")))\n",
    "print(f\"Largest is {max(list1)} and Smallest is {min(list1)}\")"
   ]
  },
  {
   "cell_type": "code",
   "execution_count": 54,
   "id": "ac40b6f9",
   "metadata": {},
   "outputs": [
    {
     "name": "stdout",
     "output_type": "stream",
     "text": [
      "Total bill is 30\n"
     ]
    }
   ],
   "source": [
    "def bill_sum(dict):\n",
    "    sum = 0\n",
    "    for i in dict:\n",
    "        sum += dict[i]\n",
    "    return sum\n",
    "\n",
    "dict = {\"pen\":10, \"pencil\":20}\n",
    "print(\"Total bill is\", bill_sum(dict))"
   ]
  },
  {
   "cell_type": "code",
   "execution_count": 55,
   "id": "b024c1ee",
   "metadata": {},
   "outputs": [
    {
     "name": "stdout",
     "output_type": "stream",
     "text": [
      "Largest is  3\n"
     ]
    }
   ],
   "source": [
    "a,b,c = map(int, input().split(\" \"))\n",
    "print(\"Largest is \", max(a,b,c))"
   ]
  },
  {
   "cell_type": "code",
   "execution_count": 58,
   "id": "5fdd665d",
   "metadata": {},
   "outputs": [
    {
     "name": "stdout",
     "output_type": "stream",
     "text": [
      "{'a': 2, 'v': 1, 's': 1, 'h': 2, 'b': 2, 'i': 1, 'k': 1, 'd': 1}\n"
     ]
    }
   ],
   "source": [
    "del dict\n",
    "from collections import Counter\n",
    "str = input()\n",
    "c = Counter(str)\n",
    "print(dict(c))"
   ]
  },
  {
   "cell_type": "code",
   "execution_count": 59,
   "id": "e1bad87c",
   "metadata": {},
   "outputs": [
    {
     "name": "stdout",
     "output_type": "stream",
     "text": [
      "Bill is: 1530\n"
     ]
    }
   ],
   "source": [
    "n = int(input())\n",
    "if n<= 100:\n",
    "    print(\"Bill is:\", (n*5))\n",
    "elif n>100 and n<=200:\n",
    "    print(\"Bill is:\", ((n-100)*7) +500)\n",
    "else:\n",
    "    print(\"Bill is:\", ((n-200)*10)+1200)"
   ]
  },
  {
   "cell_type": "code",
   "execution_count": 60,
   "id": "76a790ed",
   "metadata": {},
   "outputs": [
    {
     "name": "stdout",
     "output_type": "stream",
     "text": [
      "['aravind', 'kamal', 'koushik', 'vilohith']\n"
     ]
    }
   ],
   "source": [
    "list1 = list(input().split(\" \"))\n",
    "print(sorted(list1))"
   ]
  },
  {
   "cell_type": "code",
   "execution_count": 61,
   "id": "d1fc9ad9",
   "metadata": {},
   "outputs": [
    {
     "name": "stdout",
     "output_type": "stream",
     "text": [
      "1234\n",
      "4321\n"
     ]
    }
   ],
   "source": [
    "n = input()\n",
    "\n",
    "print(n)\n",
    "print(n[::-1])"
   ]
  },
  {
   "cell_type": "code",
   "execution_count": null,
   "id": "567be326",
   "metadata": {},
   "outputs": [],
   "source": [
    "list = [1, 3, -1, -2, 0, 4, -2, 0]\n",
    "p_count=0\n",
    "n_count=0\n",
    "z_count=0\n",
    "for i in list:\n",
    "    if i>0:\n",
    "        p_count +=1\n",
    "    elif i<0:\n",
    "        n_count +=1\n",
    "    else:\n",
    "        z_count +=1\n"
   ]
  }
 ],
 "metadata": {
  "kernelspec": {
   "display_name": "Python 3",
   "language": "python",
   "name": "python3"
  },
  "language_info": {
   "codemirror_mode": {
    "name": "ipython",
    "version": 3
   },
   "file_extension": ".py",
   "mimetype": "text/x-python",
   "name": "python",
   "nbconvert_exporter": "python",
   "pygments_lexer": "ipython3",
   "version": "3.11.13"
  }
 },
 "nbformat": 4,
 "nbformat_minor": 5
}
