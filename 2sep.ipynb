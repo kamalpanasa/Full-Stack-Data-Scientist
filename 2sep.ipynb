{
 "cells": [
  {
   "cell_type": "code",
   "execution_count": null,
   "id": "6939c291",
   "metadata": {},
   "outputs": [
    {
     "name": "stdout",
     "output_type": "stream",
     "text": [
      "Total Bill = 310\n"
     ]
    }
   ],
   "source": [
    "#1\n",
    "total = 0\n",
    "for i in range(1, 4):\n",
    "    price = int(input(f\"Enter price {i} :\"))\n",
    "    quantity = int(input(f\"Enter quantity {i} :\"))\n",
    "    total += price * quantity\n",
    "print(\"Total Bill =\", total)"
   ]
  },
  {
   "cell_type": "code",
   "execution_count": null,
   "id": "150bdb7f",
   "metadata": {},
   "outputs": [],
   "source": [
    "#2\n",
    "num1 = float(input(\"Enter first number: \"))\n",
    "num2 = float(input(\"Enter second number: \"))\n",
    "\n",
    "print(\"Addition =\", num1 + num2)\n",
    "print(\"Subtraction =\", num1 - num2)\n",
    "print(\"Multiplication =\", num1 * num2) \n",
    "print(\"Division =\", num1 / num2)\n",
    "print(\"Modulus =\", num1 % num2)"
   ]
  },
  {
   "cell_type": "code",
   "execution_count": null,
   "id": "1d3d3d4f",
   "metadata": {},
   "outputs": [],
   "source": [
    "#3\n",
    "marks = int(input(\"Enter marks: \"))\n",
    "\n",
    "if marks >= 90:\n",
    "    grade = \"A+\"\n",
    "elif marks >= 80:\n",
    "    grade = \"A\" \n",
    "elif marks >= 70:\n",
    "    grade = \"B\"\n",
    "elif marks >= 60:\n",
    "    grade = \"C\"\n",
    "else:\n",
    "    grade = \"Fail\"\n",
    "print(\"Grade:\", grade)"
   ]
  },
  {
   "cell_type": "code",
   "execution_count": null,
   "id": "c636b055",
   "metadata": {},
   "outputs": [],
   "source": [
    "#4\n",
    "marks = [45, 78, 88, 56, 90]\n",
    "high = max(marks)\n",
    "low = min(marks)\n",
    "\n",
    "avg = sum(marks) / len(marks)\n",
    "print(\"Highest Marks =\", high)\n",
    "print(\"Lowest Marks =\", low)\n",
    "print(\"Average Marks =\", avg)"
   ]
  },
  {
   "cell_type": "code",
   "execution_count": null,
   "id": "869b4f38",
   "metadata": {},
   "outputs": [
    {
     "name": "stdout",
     "output_type": "stream",
     "text": [
      "Phone number of  Suhel : 9876543210\n"
     ]
    }
   ],
   "source": [
    "#5\n",
    "Phonebook = {\"Suhel\": 9876543210, \"Ravi\": 9123456780, \"Anita\": 9988776655}\n",
    "s = input(\"Enter name to search: \")\n",
    "if s in Phonebook:\n",
    "    print(\"Phone number of \",s, \":\", Phonebook[s])\n"
   ]
  },
  {
   "cell_type": "code",
   "execution_count": null,
   "id": "724489c8",
   "metadata": {},
   "outputs": [],
   "source": [
    "#6\n",
    "sentence = input(\"Enter a sentence: \")\n",
    "words = sentence.split()\n",
    "word_count = len(words)\n",
    "char_count = len(sentence)\n",
    "\n",
    "vowels = \"aeiouAEIOU\"\n",
    "count = 0\n",
    "\n",
    "for char in sentence:\n",
    "    if char in vowels:\n",
    "        count += 1\n",
    "print(\"Number of words:\", word_count)\n",
    "print(\"Number of characters:\", char_count)\n",
    "print(\"Number of vowels:\", count)"
   ]
  },
  {
   "cell_type": "code",
   "execution_count": null,
   "id": "ac49a220",
   "metadata": {},
   "outputs": [],
   "source": [
    "# 7\n",
    "\n",
    "prin = int(input(\"Enter Principal: \"))\n",
    "rate = float(input(\"Enter Rate of Interest: \"))\n",
    "time = float(input(\"Enter Time in years: \"))\n",
    "int_type = input(\"Enter Interest Type (Simple/Compound): \").strip().lower()\n",
    "\n",
    "if int_type == \"simple\":\n",
    "    interest = (prin * rate * time) / 100\n",
    "    total_amount = prin + interest\n",
    "    print(\"Simple Interest =\", interest)\n",
    "    print(\"Total Amount =\", total_amount)\n",
    "elif int_type == \"compound\":\n",
    "    total_amount = prin * (1 + rate / 100) ** time\n",
    "    interest = total_amount - prin\n",
    "    print(\"Compound Interest =\", round(interest, 2))\n",
    "    print(\"Total Amount =\", round(total_amount, 2))\n",
    "else:\n",
    "    print(\"Invalid Interest Type\")"
   ]
  },
  {
   "cell_type": "code",
   "execution_count": null,
   "id": "cb014f9f",
   "metadata": {},
   "outputs": [],
   "source": [
    "# 8 \n",
    "message = input(\"Enter message: \")\n",
    "shift = int(input(\"Enter shift key: \"))\n",
    "\n",
    "encrypted_message = \"\"\n",
    "for char in message:\n",
    "    if char.isalpha():\n",
    "        shifted = ord(char) + shift\n",
    "        if char.isupper():\n",
    "            if shifted > ord('Z'):\n",
    "                shifted -= 26\n",
    "            encrypted_message += chr(shifted)\n",
    "        else:\n",
    "            if shifted > ord('z'):\n",
    "                shifted -= 26\n",
    "            encrypted_message += chr(shifted)\n",
    "    else:\n",
    "        encrypted_message += char\n",
    "print(\"Encrypted Message:\", encrypted_message)"
   ]
  },
  {
   "cell_type": "code",
   "execution_count": null,
   "id": "df35cbc8",
   "metadata": {},
   "outputs": [],
   "source": [
    "# 9\n",
    "n = int(input(\"Enter PIN: \"))\n",
    "balance = int(input(\"Enter Balance: \"))\n",
    "withdraw = int(input(\"Enter amount to withdraw: \"))\n",
    "\n",
    "if n :\n",
    "    if withdraw <= balance:\n",
    "        balance -= withdraw\n",
    "        print(\"Withdrawal Successful. Remaining Balance =\", balance)\n",
    "    else:\n",
    "        print(\"Insufficient Balance\")"
   ]
  },
  {
   "cell_type": "code",
   "execution_count": null,
   "id": "dd798ba6",
   "metadata": {},
   "outputs": [],
   "source": [
    "# 10 \n",
    "books = input(\"Enter books separated by commas: \").split(\",\")\n",
    "print(\"Current Books:\", books)\n",
    "add_book = input(\"Enter book to add: \")\n",
    "books.append(add_book)\n",
    "print(\"Updated Books:\", books)\n",
    "del_book = input(\"Enter book to remove: \")\n",
    "if del_book in books:\n",
    "    books.remove(del_book)\n",
    "print(\"Final Books:\", books)"
   ]
  }
 ],
 "metadata": {
  "kernelspec": {
   "display_name": "Python 3",
   "language": "python",
   "name": "python3"
  },
  "language_info": {
   "codemirror_mode": {
    "name": "ipython",
    "version": 3
   },
   "file_extension": ".py",
   "mimetype": "text/x-python",
   "name": "python",
   "nbconvert_exporter": "python",
   "pygments_lexer": "ipython3",
   "version": "3.11.13"
  }
 },
 "nbformat": 4,
 "nbformat_minor": 5
}
