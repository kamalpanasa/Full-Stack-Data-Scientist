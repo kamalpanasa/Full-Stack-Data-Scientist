{
 "cells": [
  {
   "cell_type": "code",
   "execution_count": 1,
   "metadata": {},
   "outputs": [
    {
     "name": "stdout",
     "output_type": "stream",
     "text": [
      "12   23\n",
      "23   12\n"
     ]
    }
   ],
   "source": [
    "# 1.You are developing a small calculator app. Write a program that takes two numbers from the user and swaps them without using a third variable, so users can correct their input order.\n",
    "\n",
    "a = int(input(\"Enter number 1:\"))\n",
    "b = int(input(\"Enter number 2:\"))\n",
    "\n",
    "print(a,\" \" ,b)\n",
    "\n",
    "a = a+b\n",
    "b = a-b\n",
    "a = a-b\n",
    "\n",
    "print(a, \" \", b)"
   ]
  },
  {
   "cell_type": "code",
   "execution_count": 3,
   "metadata": {},
   "outputs": [
    {
     "name": "stdout",
     "output_type": "stream",
     "text": [
      "olleh"
     ]
    }
   ],
   "source": [
    "# 2.A library wants to build a feature to display book titles backwards for a “mirror view” theme. Write a program that reverses a given string without using slicing.\n",
    "\n",
    "s = input(\"Enter the string :\")\n",
    "for i in range(len(s)-1,-1,-1):\n",
    "    print(s[i],end=\"\")"
   ]
  },
  {
   "cell_type": "code",
   "execution_count": null,
   "metadata": {},
   "outputs": [
    {
     "name": "stdout",
     "output_type": "stream",
     "text": [
      "Armstrong\n"
     ]
    }
   ],
   "source": [
    "# 3. An ATM machine verifies special numbers before processing transactions. Write a program to check if a number entered by the customer is an Armstrong number.\n",
    "a = int(input(\"Enter:\"))\n",
    "s = a\n",
    "sum=0\n",
    "while a>0:\n",
    "    d = a%10\n",
    "    sum += d**3\n",
    "    a = a//10\n",
    "if s==sum :\n",
    "    print(\"Armstrong\")\n",
    "else:\n",
    "    print(\"Not Armstrong\")"
   ]
  },
  {
   "cell_type": "code",
   "execution_count": 8,
   "metadata": {},
   "outputs": [
    {
     "name": "stdout",
     "output_type": "stream",
     "text": [
      "5   7\n"
     ]
    }
   ],
   "source": [
    "# 4. A language learning app wants to check how many vowels and consonants a user has typed in a practice sentence. Write a program to count vowels and consonants in a given sentence.\n",
    "s = input(\"Enter\")\n",
    "count = 0\n",
    "a = 0\n",
    "vowels = {'a','e','i','o','u'}\n",
    "while(a<len(s)):\n",
    "    if  s[a] in vowels:\n",
    "        count +=1\n",
    "    a +=1\n",
    "print(count ,\" \", len(s)-count)"
   ]
  },
  {
   "cell_type": "code",
   "execution_count": 9,
   "metadata": {},
   "outputs": [
    {
     "name": "stdout",
     "output_type": "stream",
     "text": [
      "4 * 1 = 4\n",
      "4 * 2 = 8\n",
      "4 * 3 = 12\n",
      "4 * 4 = 16\n",
      "4 * 5 = 20\n",
      "4 * 6 = 24\n",
      "4 * 7 = 28\n",
      "4 * 8 = 32\n",
      "4 * 9 = 36\n",
      "4 * 10 = 40\n"
     ]
    }
   ],
   "source": [
    "# 5.\n",
    "# In an e-learning platform, when a student inputs a number, the system should generate its multiplication table (up to 10) as practice material. Write a program to do this.\n",
    "# 6.\n",
    "# A travel company checks leap years to calculate special discounts on leap day. Write a program to check if a given year is a leap year.\n",
    "# 7.\n",
    "# A gaming app wants to determine the highest score out of 5 attempts. Write a program to take 5 numbers as input and print the largest.\n",
    "\n",
    "a = int(input(\"Enter:\"))\n",
    "\n",
    "for i in range(1,11) :\n",
    "    print(a,\"*\",i,\"=\",(a*i))"
   ]
  },
  {
   "cell_type": "code",
   "execution_count": 14,
   "metadata": {},
   "outputs": [
    {
     "name": "stdout",
     "output_type": "stream",
     "text": [
      "not leap\n"
     ]
    }
   ],
   "source": [
    "a = int(input(\"Enter:\"))\n",
    "\n",
    "if a%100!=0 and a%4==0:\n",
    "    print(\"leap\")\n",
    "elif a%100==0 and a%400==0:\n",
    "    print(\"leap\")\n",
    "else:\n",
    "    print(\"not leap\")"
   ]
  },
  {
   "cell_type": "code",
   "execution_count": 19,
   "metadata": {},
   "outputs": [
    {
     "name": "stdout",
     "output_type": "stream",
     "text": [
      "7\n"
     ]
    }
   ],
   "source": [
    "max=0\n",
    "for i in range(0,5):\n",
    "    a = int(input(\"Enter:\"))\n",
    "    if max<a:\n",
    "        max = a\n",
    "\n",
    "print(max)"
   ]
  }
 ],
 "metadata": {
  "kernelspec": {
   "display_name": "venv",
   "language": "python",
   "name": "python3"
  },
  "language_info": {
   "codemirror_mode": {
    "name": "ipython",
    "version": 3
   },
   "file_extension": ".py",
   "mimetype": "text/x-python",
   "name": "python",
   "nbconvert_exporter": "python",
   "pygments_lexer": "ipython3",
   "version": "3.11.0"
  }
 },
 "nbformat": 4,
 "nbformat_minor": 2
}
