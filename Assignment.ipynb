{
 "cells": [
  {
   "cell_type": "markdown",
   "id": "0499d806",
   "metadata": {},
   "source": [
    "## Python Functions (5 challenges)\n",
    " \n",
    "1. Fibonacci Generator\n",
    " \n",
    "* Function generates `n` Fibonacci numbers.\n",
    " \n",
    "* Input: `n = 7`\n",
    " \n",
    "* Output: `[0, 1, 1, 2, 3, 5, 8]`\n"
   ]
  },
  {
   "cell_type": "code",
   "execution_count": 37,
   "id": "8d6e1745",
   "metadata": {},
   "outputs": [
    {
     "name": "stdout",
     "output_type": "stream",
     "text": [
      "[0, 1, 1, 2, 3, 5, 8]\n"
     ]
    }
   ],
   "source": [
    "def fib(num):\n",
    "    a, b = 0, 1\n",
    "    c = 0\n",
    "    numbers = []\n",
    "    while c < num:\n",
    "        numbers.append(a)\n",
    "        a, b = b, a + b\n",
    "        c += 1\n",
    "    return numbers\n",
    "\n",
    "print(fib(7))"
   ]
  },
  {
   "cell_type": "markdown",
   "id": "1b942a67",
   "metadata": {},
   "source": [
    "2. Factorial Using Recursion\n",
    " \n",
    "* Compute factorial using recursion.\n",
    " \n",
    "* Input: `5`\n",
    " \n",
    "* Output: `120`\n"
   ]
  },
  {
   "cell_type": "code",
   "execution_count": 38,
   "id": "4349e1ab",
   "metadata": {},
   "outputs": [
    {
     "name": "stdout",
     "output_type": "stream",
     "text": [
      "120\n"
     ]
    }
   ],
   "source": [
    "def factorial(n):\n",
    "    if n<=1:\n",
    "        return 1\n",
    "    else:\n",
    "        return factorial(n-1)*n\n",
    "    \n",
    "print(factorial(5))"
   ]
  },
  {
   "cell_type": "markdown",
   "id": "54774f08",
   "metadata": {},
   "source": [
    "3. Unique Words Counter\n",
    " \n",
    "* Return unique words in a sentence.\n",
    " \n",
    "* Input: `\"apple banana apple orange banana\"`\n",
    " \n",
    "* Output: `{'apple':2,'banana':2,'orange':1}`\n"
   ]
  },
  {
   "cell_type": "code",
   "execution_count": 39,
   "id": "76b3a8b8",
   "metadata": {},
   "outputs": [
    {
     "name": "stdout",
     "output_type": "stream",
     "text": [
      "{'apple': 2, 'banana': 2, 'orange': 1}\n"
     ]
    }
   ],
   "source": [
    "def counter(st):\n",
    "    words = st.split()\n",
    "    count = {}\n",
    "    for word in words:\n",
    "        if word in count:\n",
    "            count[word] += 1\n",
    "        else:\n",
    "            count[word] = 1\n",
    "    return count\n",
    "dict = counter(\"apple banana apple orange banana\")\n",
    "print(dict)\n"
   ]
  },
  {
   "cell_type": "markdown",
   "id": "94712327",
   "metadata": {},
   "source": [
    "4. Grade Calculator\n",
    " \n",
    "* Function takes marks and returns grade.\n",
    " \n",
    "* Input: `[85, 90, 78]`\n",
    " \n",
    "* Output: `\"Grade: A\"`\n"
   ]
  },
  {
   "cell_type": "code",
   "execution_count": 40,
   "id": "e9f95131",
   "metadata": {},
   "outputs": [
    {
     "name": "stdout",
     "output_type": "stream",
     "text": [
      "A\n"
     ]
    }
   ],
   "source": [
    "def grade(marks):\n",
    "    avg = sum(marks)/len(marks)\n",
    "    if avg >= 90:\n",
    "        return 'S'\n",
    "    elif avg >= 80:\n",
    "        return 'A'\n",
    "    elif avg >= 70:\n",
    "        return 'B'\n",
    "    elif avg >= 60:\n",
    "        return 'C'\n",
    "    else:\n",
    "        return 'F'\n",
    "marks = [85, 90, 78]\n",
    "print(grade(marks))"
   ]
  },
  {
   "cell_type": "markdown",
   "id": "21f725a7",
   "metadata": {},
   "source": [
    "5. Second Largest Number\n",
    " \n",
    "* Return 2nd largest number from a list.\n",
    " \n",
    "* Input: `[10, 5, 20, 8]`\n",
    " \n",
    "* Output: `10`\n"
   ]
  },
  {
   "cell_type": "code",
   "execution_count": 44,
   "id": "b55c9604",
   "metadata": {},
   "outputs": [
    {
     "name": "stdout",
     "output_type": "stream",
     "text": [
      "10\n"
     ]
    }
   ],
   "source": [
    "def second_large(list1):\n",
    "    sort_list1 = sorted(list1)\n",
    "    return sort_list1[-2]\n",
    "\n",
    "list1 = [10, 5, 20, 8]\n",
    "print(second_large(list1))"
   ]
  },
  {
   "cell_type": "markdown",
   "id": "5b5c98ed",
   "metadata": {},
   "source": [
    "## Python Modules ( 5 challenges)\n",
    " \n",
    "1. `os` → Count Files by Extension\n",
    " \n",
    "Write a program using `os` to count how many `.txt` and `.py` files are in the current directory.\n",
    " \n",
    "Sample Input (files in folder):\n",
    " \n",
    "```\n",
    " \n",
    "[\"notes.txt\", \"app.py\", \"data.csv\", \"report.txt\", \"main.py\"]\n",
    " \n",
    "```\n",
    " \n",
    "Sample Output:\n",
    " \n",
    "```\n",
    " \n",
    "Text files: 2\n",
    " \n",
    "Python files: 2\n",
    " \n",
    "```\n",
    " \n",
    "---\n"
   ]
  },
  {
   "cell_type": "code",
   "execution_count": 42,
   "id": "4c72f792",
   "metadata": {},
   "outputs": [
    {
     "name": "stdout",
     "output_type": "stream",
     "text": [
      "Text files: 0\n",
      "Python files: 1\n"
     ]
    }
   ],
   "source": [
    "import os\n",
    "\n",
    "txt_count = 0\n",
    "py_count = 0\n",
    "\n",
    "for file in os.listdir(\".\"):\n",
    "    if file.endswith(\".txt\"):\n",
    "        txt_count += 1\n",
    "    elif file.endswith(\".py\"):\n",
    "        py_count += 1\n",
    "\n",
    "print(\"Text files:\", txt_count)\n",
    "print(\"Python files:\", py_count)\n"
   ]
  },
  {
   "cell_type": "markdown",
   "id": "231bf1fd",
   "metadata": {},
   "source": [
    "2. `statistics` → Exam Score Analysis\n",
    " \n",
    "Use `statistics` to calculate the mean, median, and variance of student exam scores.\n",
    " \n",
    "Sample Input:\n",
    " \n",
    "```\n",
    " \n",
    "Scores = [75, 80, 90, 100, 85, 90, 95]\n",
    " \n",
    "```\n",
    " \n",
    "Sample Output:\n",
    " \n",
    "```\n",
    " \n",
    "Mean = 88.57\n",
    " \n",
    "Median = 90\n",
    " \n",
    "Variance = 71.43\n",
    " \n",
    "```\n",
    " \n",
    "---\n"
   ]
  },
  {
   "cell_type": "code",
   "execution_count": 46,
   "id": "9c8a7985",
   "metadata": {},
   "outputs": [
    {
     "name": "stdout",
     "output_type": "stream",
     "text": [
      "Mean: 87.85714285714286\n",
      "Median: 90\n",
      "Variance: 73.80952380952381\n"
     ]
    }
   ],
   "source": [
    "import statistics\n",
    "\n",
    "data = [75, 80, 90, 100, 85, 90, 95]\n",
    "mean = statistics.mean(data)\n",
    "median = statistics.median(data)\n",
    "variance = statistics.variance(data)\n",
    "\n",
    "print(\"Mean:\", mean)\n",
    "print(\"Median:\", median)\n",
    "print(\"Variance:\", variance)"
   ]
  },
  {
   "cell_type": "markdown",
   "id": "bcf1d4eb",
   "metadata": {},
   "source": [
    "3. `math` → Quadratic Equation Solver\n",
    " \n",
    "Use the `math` module to solve quadratic equations of the form `ax² + bx + c = 0`.\n",
    " \n",
    "Sample Input:\n",
    " \n",
    "```\n",
    " \n",
    "a = 1, b = -3, c = 2\n",
    " \n",
    "```\n",
    " \n",
    "Sample Output:\n",
    " \n",
    "```\n",
    " \n",
    "Roots are: 1.0 and 2.0\n",
    " \n",
    "```\n",
    " \n",
    "---\n"
   ]
  },
  {
   "cell_type": "code",
   "execution_count": 48,
   "id": "a546958c",
   "metadata": {},
   "outputs": [
    {
     "name": "stdout",
     "output_type": "stream",
     "text": [
      "Roots are real and different.\n",
      "Root 1: 2.0\n",
      "Root 2: 1.0\n"
     ]
    }
   ],
   "source": [
    "import math\n",
    "\n",
    "a = int(input(\"Enter a: \"))\n",
    "b = int(input(\"Enter b: \"))\n",
    "c = int(input(\"Enter c: \"))\n",
    "D = b**2 - 4*a*c\n",
    "root1 = (-b + math.sqrt(D)) / (2*a)\n",
    "root2 = (-b - math.sqrt(D)) / (2*a)\n",
    "print(\"Roots are real and different.\")\n",
    "print(\"Root 1:\", root1)\n",
    "print(\"Root 2:\", root2)"
   ]
  },
  {
   "cell_type": "markdown",
   "id": "c27ad07c",
   "metadata": {},
   "source": [
    "4. `random` → Rock Paper Scissors Game\n",
    " \n",
    "Use `random.choice()` to let the computer play Rock–Paper–Scissors against the user.\n",
    " \n",
    "Sample Input:\n",
    " \n",
    "```\n",
    " \n",
    "User: Rock\n",
    " \n",
    "Computer (random): Scissors\n",
    " \n",
    "```\n",
    " \n",
    "Sample Output:\n",
    " \n",
    "```\n",
    " \n",
    "You chose Rock, Computer chose Scissors\n",
    " \n",
    "You Win!\n",
    " \n",
    "```\n",
    " \n",
    "---\n"
   ]
  },
  {
   "cell_type": "code",
   "execution_count": 50,
   "id": "f1b80f2e",
   "metadata": {},
   "outputs": [
    {
     "name": "stdout",
     "output_type": "stream",
     "text": [
      "Computer wins! Computer chose paper\n"
     ]
    }
   ],
   "source": [
    "import random\n",
    "\n",
    "choose = ['rock', 'paper', 'scissors']\n",
    "computer = random.choice(choose)\n",
    "player = input(\"Enter rock, paper, or scissors: \").lower()\n",
    "if player == computer:\n",
    "    print(\"It's a tie! Both chose\", player)\n",
    "elif (player == 'rock' and computer == 'scissors') or (player == 'paper' and computer == 'rock') or (player == 'scissors' and computer == 'paper'):\n",
    "    print(\"You win! Computer chose\", computer)\n",
    "else:\n",
    "    print(\"Computer wins! Computer chose\", computer)"
   ]
  },
  {
   "cell_type": "markdown",
   "id": "b0cff4c7",
   "metadata": {},
   "source": [
    "5. `sys` → Sum from Command Line\n",
    " \n",
    "Write a program using `sys.argv` to take three numbers from the command line and print their sum.\n",
    " \n",
    "Sample Input (command line):\n",
    " \n",
    "```\n",
    " \n",
    "python add.py 5 10 15\n",
    " \n",
    "```\n",
    " \n",
    "Sample Output:\n",
    " \n",
    "```\n",
    " \n",
    "Sum = 30\n",
    " \n",
    "```\n"
   ]
  },
  {
   "cell_type": "code",
   "execution_count": null,
   "id": "273627c7",
   "metadata": {},
   "outputs": [
    {
     "name": "stdout",
     "output_type": "stream",
     "text": [
      "Usage: python add.py num1 num2 num3\n"
     ]
    }
   ],
   "source": [
    "import sys\n",
    "\n",
    "if len(sys.argv) != 4:\n",
    "    print(\"Give exactly three numbers as arguments.\")\n",
    "else:\n",
    "    num1 = int(sys.argv[1])\n",
    "    num2 = int(sys.argv[2])\n",
    "    num3 = int(sys.argv[3])\n",
    "\n",
    "    total = num1 + num2 + num3\n",
    "    print(\"Sum =\", total)"
   ]
  },
  {
   "cell_type": "markdown",
   "id": "8f5c71da",
   "metadata": {},
   "source": [
    "Python OOPs (5 challenges)\n",
    " \n",
    "### 1. Library System\n",
    " \n",
    "Create a `Library` class with:\n",
    " \n",
    "*Attributes: `books` (dict with book title → copies available)\n",
    " \n",
    "*Methods:\n",
    " \n",
    "* `borrow(title)` → decreases stock if available\n",
    " \n",
    "* `return_book(title)` → increases stock\n",
    " \n",
    "* `show_books()` → prints all available books\n",
    " \n",
    "Sample Input:\n",
    " \n",
    "```python\n",
    " \n",
    "lib = Library({\"Python 101\": 3, \"Data Science\": 2})\n",
    " \n",
    "print(lib.borrow(\"Python 101\"))\n",
    " \n",
    "print(lib.return_book(\"Python 101\"))\n",
    " \n",
    "lib.show_books()\n",
    " \n",
    "```\n",
    " \n",
    "Sample Output:\n",
    " \n",
    "```\n",
    " \n",
    "You borrowed Python 101\n",
    " \n",
    "You returned Python 101\n",
    " \n",
    "Available books: {'Python 101': 3, 'Data Science': 2}\n",
    " \n",
    "```\n",
    " \n",
    "---\n"
   ]
  },
  {
   "cell_type": "code",
   "execution_count": null,
   "id": "73dc32be",
   "metadata": {},
   "outputs": [
    {
     "name": "stdout",
     "output_type": "stream",
     "text": [
      "You have borrowed Python 101\n",
      "You have returned Python 101\n",
      "{'Python 101': 3, 'Data Science': 2}\n"
     ]
    }
   ],
   "source": [
    "class Library:\n",
    "    def __init__(self, books):\n",
    "        self.books = books\n",
    "    \n",
    "    def borrow(self, title):\n",
    "        if title in self.books and self.books[title] > 0:\n",
    "            self.books[title] -= 1\n",
    "            return f\"You have borrowed {title}\"\n",
    "        else:\n",
    "            return f\"Sorry, {title} is not available\"\n",
    "    def return_book(self, title):\n",
    "        if title in self.books:\n",
    "            self.books[title] += 1\n",
    "            return f\"You have returned {title}\"\n",
    "        else:\n",
    "            self.books[title] = 1\n",
    "            return f\"Thank you for returning {title}\"\n",
    "    def show_books(self):\n",
    "        return self.books\n",
    "    \n",
    "lib = Library({\"Python 101\": 3, \"Data Science\": 2})\n",
    "print(lib.borrow(\"Python 101\"))\n",
    "print(lib.return_book(\"Python 101\"))\n",
    "print(lib.show_books())"
   ]
  },
  {
   "cell_type": "markdown",
   "id": "d0062881",
   "metadata": {},
   "source": [
    "### 2. ATM Machine with PIN\n",
    " \n",
    "Create an `ATM` class with:\n",
    " \n",
    "*Attributes: `balance`, `pin`, `is_authenticated`\n",
    " \n",
    "*Methods:\n",
    " \n",
    "* `login(pin)` → checks PIN\n",
    " \n",
    "* `check_balance()`\n",
    " \n",
    "* `deposit(amount)`\n",
    " \n",
    "* `withdraw(amount)`\n",
    " \n",
    "Sample Input:\n",
    " \n",
    "```python\n",
    " \n",
    "atm = ATM(1234, 500)\n",
    " \n",
    "print(atm.login(1234))\n",
    " \n",
    "print(atm.deposit(200))\n",
    " \n",
    "print(atm.withdraw(100))\n",
    " \n",
    "print(atm.check_balance())\n",
    " \n",
    "```\n",
    " \n",
    "Sample Output:\n",
    " \n",
    "```\n",
    " \n",
    "Access Granted\n",
    " \n",
    "Deposited 200\n",
    " \n",
    "Withdrew 100\n",
    " \n",
    "Balance: 600\n",
    " \n",
    "```\n",
    " \n",
    "---\n"
   ]
  },
  {
   "cell_type": "code",
   "execution_count": null,
   "id": "b801a0c3",
   "metadata": {},
   "outputs": [
    {
     "name": "stdout",
     "output_type": "stream",
     "text": [
      "Access granted\n",
      "Your balance is 500\n",
      "Deposited 200. New balance is 700\n",
      "Withdrew 100. New balance is 600\n",
      "Your balance is 600\n"
     ]
    }
   ],
   "source": [
    "class ATM:\n",
    "    def __init__(self, balance, pin, is_authenticated=False):\n",
    "        self.balance = balance\n",
    "        self.pin = pin\n",
    "        self.is_authenticated = is_authenticated\n",
    "    \n",
    "    def login(self, pin):\n",
    "        if pin == self.pin:\n",
    "            self.is_authenticated = True\n",
    "            return \"Access granted\"\n",
    "        else:\n",
    "            return \"Invalid Access\"\n",
    "    \n",
    "    def check_balance(self):\n",
    "        if self.is_authenticated:\n",
    "            return f\"Your balance is {self.balance}\"\n",
    "        else:\n",
    "            return \"Please login first\"\n",
    "    \n",
    "    def deposit(self, amount):\n",
    "        if self.is_authenticated:\n",
    "            self.balance += amount\n",
    "            return f\"Deposited {amount}. New balance is {self.balance}\"\n",
    "        else:\n",
    "            return \"Please login first\"\n",
    "        \n",
    "    def withdraw(self, amount):\n",
    "        if self.is_authenticated:\n",
    "            if amount <= self.balance:\n",
    "                self.balance -= amount\n",
    "                return f\"Withdrew {amount}. New balance is {self.balance}\"\n",
    "            else:\n",
    "                return \"Insufficient funds\"\n",
    "        else:\n",
    "            return \"Please login first\"\n",
    "        \n",
    "atm = ATM(500, 1234)\n",
    "print(atm.login(1234))\n",
    "print(atm.check_balance())\n",
    "print(atm.deposit(200))\n",
    "print(atm.withdraw(100))\n",
    "print(atm.check_balance())"
   ]
  },
  {
   "cell_type": "markdown",
   "id": "0d00c634",
   "metadata": {},
   "source": [
    "3. University System\n",
    " \n",
    "Create `Professor` and `Student` classes.\n",
    " \n",
    "*Professor Attributes: `name`, `subject`\n",
    " \n",
    "*Professor Methods: `teach(course)`, `give_assignment(task)`\n",
    " \n",
    "*Student Attributes: `name`, `courses`, `assignments`\n",
    " \n",
    "*Student Methods: `enroll(course)`, `submit_assignment(task)`\n",
    " \n",
    "Sample Input:\n",
    " \n",
    "```python\n",
    " \n",
    "prof = Professor(\"Dr. Smith\", \"Computer Science\")\n",
    " \n",
    "stud = Student(\"Alice\")\n",
    " \n",
    "print(prof.teach(\"Python\"))\n",
    " \n",
    "print(stud.enroll(\"Python\"))\n",
    " \n",
    "print(prof.give_assignment(\"Project 1\"))\n",
    " \n",
    "print(stud.submit_assignment(\"Project 1\"))\n",
    " \n",
    "```\n",
    " \n",
    "Sample Output:\n",
    " \n",
    "```\n",
    " \n",
    "Dr. Smith is teaching Python\n",
    " \n",
    "Alice enrolled in Python\n",
    " \n",
    "Dr. Smith assigned: Project 1\n",
    " \n",
    "Alice submitted: Project 1\n",
    " \n",
    "```\n",
    " \n",
    "---\n"
   ]
  },
  {
   "cell_type": "code",
   "execution_count": null,
   "id": "cc897968",
   "metadata": {},
   "outputs": [
    {
     "name": "stdout",
     "output_type": "stream",
     "text": [
      "Dr. Smith is teaching Python\n",
      "Alice enrolled in Python\n",
      "Dr. Smith assigned: Project 1\n",
      "Alice submitted: Project 1\n"
     ]
    }
   ],
   "source": [
    "class Professor:\n",
    "    def __init__(self, name, subject):\n",
    "        self.name = name\n",
    "        self.subject = subject\n",
    "\n",
    "    def teach(self, course):\n",
    "        return f\"{self.name} is teaching {course}\"\n",
    "\n",
    "    def give_assignment(self, task):\n",
    "        return f\"{self.name} assigned: {task}\"\n",
    "\n",
    "\n",
    "class Student:\n",
    "    def __init__(self, name):\n",
    "        self.name = name\n",
    "        self.courses = []\n",
    "        self.assignments = []\n",
    "\n",
    "    def enroll(self, course):\n",
    "        self.courses.append(course)\n",
    "        return f\"{self.name} enrolled in {course}\"\n",
    "\n",
    "    def submit_assignment(self, task):\n",
    "        self.assignments.append(task)\n",
    "        return f\"{self.name} submitted: {task}\"\n",
    "\n",
    "\n",
    "prof = Professor(\"Dr. Smith\", \"Computer Science\")\n",
    "stud = Student(\"Alice\")\n",
    "print(prof.teach(\"Python\"))\n",
    "print(stud.enroll(\"Python\"))\n",
    "print(prof.give_assignment(\"Project 1\"))\n",
    "print(stud.submit_assignment(\"Project 1\"))\n"
   ]
  },
  {
   "cell_type": "markdown",
   "id": "a0b7f9c0",
   "metadata": {},
   "source": [
    "### 4. Movie Ticket Booking\n",
    " \n",
    "Create a `Cinema` class with:\n",
    " \n",
    "*Attributes: `movies` (dict → movie: seats available)\n",
    " \n",
    "*Methods:\n",
    " \n",
    "* `book(movie, seats)` → reduces seat count\n",
    " \n",
    "* `cancel(movie, seats)` → adds back seats\n",
    " \n",
    "* `show_movies()` → shows available seats\n",
    " \n",
    "Sample Input:\n",
    " \n",
    "```python\n",
    " \n",
    "cinema = Cinema({\"Avatar\": 10, \"Batman\": 5})\n",
    " \n",
    "print(cinema.book(\"Avatar\", 2))\n",
    " \n",
    "print(cinema.cancel(\"Avatar\", 1))\n",
    " \n",
    "cinema.show_movies()\n",
    " \n",
    "```\n",
    " \n",
    "Sample Output:\n",
    " \n",
    "```\n",
    " \n",
    "Booked 2 tickets for Avatar\n",
    " \n",
    "Cancelled 1 ticket for Avatar\n",
    " \n",
    "Movies: {'Avatar': 9, 'Batman': 5}\n",
    " \n",
    "```\n",
    " \n",
    "---\n"
   ]
  },
  {
   "cell_type": "code",
   "execution_count": null,
   "id": "af5ea7aa",
   "metadata": {},
   "outputs": [
    {
     "name": "stdout",
     "output_type": "stream",
     "text": [
      "Ticket booked for Inception\n",
      "Booking cancelled for Inception\n",
      "{'Inception': 5, 'Avatar': 3}\n"
     ]
    }
   ],
   "source": [
    "class Cinema:\n",
    "    def __init__(self, movies):\n",
    "        self.movies = movies\n",
    "    \n",
    "    def book(self, movie):\n",
    "        if movie in self.movies and self.movies[movie] > 0:\n",
    "            self.movies[movie] -= 1\n",
    "            return f\"Ticket booked for {movie}\"\n",
    "        else:\n",
    "            return f\"Sorry, {movie} is sold out\"\n",
    "    \n",
    "    def cancel(self, movie):\n",
    "        if movie in self.movies:\n",
    "            self.movies[movie] += 1\n",
    "            return f\"Booking cancelled for {movie}\"\n",
    "        else:\n",
    "            self.movies[movie] = 1\n",
    "            return f\"Thank you for cancelling {movie}\"\n",
    "        \n",
    "    def show_movies(self):\n",
    "        return self.movies\n",
    "    \n",
    "cinema = Cinema({\"Inception\": 5, \"Avatar\": 3})\n",
    "print(cinema.book(\"Inception\"))\n",
    "print(cinema.cancel(\"Inception\"))\n",
    "print(cinema.show_movies())"
   ]
  },
  {
   "cell_type": "markdown",
   "id": "fd877984",
   "metadata": {},
   "source": [
    "### 5. Restaurant Menu\n",
    " \n",
    "Create a `Menu` class with:\n",
    " \n",
    "*Attributes: `items` (dict → item: price)\n",
    " \n",
    "*Methods:\n",
    " \n",
    "* `add_item(name, price)`\n",
    " \n",
    "* `remove_item(name)`\n",
    " \n",
    "* `update_price(name, new_price)`\n",
    " \n",
    "* `show_menu()`\n",
    " \n",
    "Sample Input:\n",
    " \n",
    "```python\n",
    " \n",
    "menu = Menu()\n",
    " \n",
    "print(menu.add_item(\"Burger\", 100))\n",
    " \n",
    "print(menu.add_item(\"Pizza\", 200))\n",
    " \n",
    "print(menu.update_price(\"Pizza\", 250))\n",
    " \n",
    "print(menu.remove_item(\"Burger\"))\n",
    " \n",
    "menu.show_menu()\n",
    " \n",
    "```\n",
    " \n",
    "Sample Output:\n",
    " \n",
    "```\n",
    " \n",
    "Burger added\n",
    " \n",
    "Pizza added\n",
    " \n",
    "Pizza price updated to 250\n",
    " \n",
    "Burger removed\n",
    " \n",
    "Menu: {'Pizza': 250}\n",
    " \n",
    "```\n"
   ]
  },
  {
   "cell_type": "code",
   "execution_count": null,
   "id": "b61b5b15",
   "metadata": {},
   "outputs": [
    {
     "name": "stdout",
     "output_type": "stream",
     "text": [
      "Added Pasta with price 7\n",
      "Removed Burger\n",
      "Updated Pizza to price 9\n",
      "{'Pizza': 9, 'Pasta': 7}\n"
     ]
    }
   ],
   "source": [
    "class Menu:\n",
    "    def __init__(self, items):\n",
    "        self.items = items\n",
    "    \n",
    "    def add_item(self, item, price):\n",
    "        self.items[item] = price\n",
    "        return f\"Added {item} with price {price}\"\n",
    "    \n",
    "    def remove_item(self, item):\n",
    "        if item in self.items:\n",
    "            del self.items[item]\n",
    "            return f\"Removed {item}\"\n",
    "        else:\n",
    "            return f\"{item} not found\"\n",
    "    \n",
    "    def update_price(self, item, price):\n",
    "        if item in self.items:\n",
    "            self.items[item] = price\n",
    "            return f\"Updated {item} to price {price}\"\n",
    "        else:\n",
    "            return f\"{item} not found\"\n",
    "    \n",
    "    def show_menu(self):\n",
    "        return self.items\n",
    "    \n",
    "menu = Menu({\"Burger\": 5, \"Pizza\": 8})\n",
    "print(menu.add_item(\"Pasta\", 7))\n",
    "print(menu.remove_item(\"Burger\"))\n",
    "print(menu.update_price(\"Pizza\", 9))\n",
    "print(menu.show_menu())"
   ]
  }
 ],
 "metadata": {
  "kernelspec": {
   "display_name": "Python 3",
   "language": "python",
   "name": "python3"
  },
  "language_info": {
   "codemirror_mode": {
    "name": "ipython",
    "version": 3
   },
   "file_extension": ".py",
   "mimetype": "text/x-python",
   "name": "python",
   "nbconvert_exporter": "python",
   "pygments_lexer": "ipython3",
   "version": "3.11.13"
  }
 },
 "nbformat": 4,
 "nbformat_minor": 5
}
