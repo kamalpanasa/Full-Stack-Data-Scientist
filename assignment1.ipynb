{
 "cells": [
  {
   "cell_type": "code",
   "execution_count": 7,
   "id": "f8dd1269",
   "metadata": {},
   "outputs": [
    {
     "name": "stdout",
     "output_type": "stream",
     "text": [
      "17 is a prime number\n"
     ]
    }
   ],
   "source": [
    "#11 A security system checks whether the entered code is prime for extra authentication. Write a program to check if a given number is prime.\n",
    "num = int(input(\"Enter a number: \"))\n",
    "if num > 1:\n",
    "    for i in range(2, int(num**0.5) + 1):\n",
    "        if (num % i) == 0:\n",
    "            print(num, \"is not a prime number\")\n",
    "            break\n",
    "    else:\n",
    "        print(num, \"is a prime number\")"
   ]
  },
  {
   "cell_type": "code",
   "execution_count": 21,
   "id": "967c8a95",
   "metadata": {},
   "outputs": [
    {
     "name": "stdout",
     "output_type": "stream",
     "text": [
      "The second highest score is: 6\n"
     ]
    }
   ],
   "source": [
    "#12 In a class test, a teacher wants to know the second highest score among students. Write a program to find the second largest number in a list.\n",
    "scores = list(map(int,input(\"Enter numbers: \").split()))\n",
    "print(\"The second highest score is:\", sorted(set(scores))[-2])"
   ]
  },
  {
   "cell_type": "code",
   "execution_count": 10,
   "id": "f17afd07",
   "metadata": {},
   "outputs": [
    {
     "name": "stdout",
     "output_type": "stream",
     "text": [
      "The sum of even numbers from 1 to 50 is: 650\n"
     ]
    }
   ],
   "source": [
    "\n",
    "#13 A fitness app counts only even-numbered steps to calculate “balanced walking.” Write a program to find the sum of even numbers from 1 to 50.\n",
    "sum = 0\n",
    "for i in range(1, 51):\n",
    "    if i % 2 == 0:\n",
    "        sum += i\n",
    "print(\"The sum of even numbers from 1 to 50 is:\", sum)"
   ]
  },
  {
   "cell_type": "code",
   "execution_count": 11,
   "id": "15d0ffd5",
   "metadata": {},
   "outputs": [
    {
     "name": "stdout",
     "output_type": "stream",
     "text": [
      "Lowercase letters: 7\n",
      "Uppercase letters: 5\n"
     ]
    }
   ],
   "source": [
    "#14 A typing speed test wants to know how many uppercase and lowercase letters a user typed. Write a program to count uppercase and lowercase characters in a string.\n",
    "lowercase_count = 0\n",
    "uppercase_count = 0\n",
    "string = input(\"Enter a string: \")\n",
    "for char in string:\n",
    "    if char.islower():\n",
    "        lowercase_count += 1\n",
    "    elif char.isupper():\n",
    "        uppercase_count += 1\n",
    "print(\"Lowercase letters:\", lowercase_count)\n",
    "print(\"Uppercase letters:\", uppercase_count)"
   ]
  },
  {
   "cell_type": "code",
   "execution_count": 12,
   "id": "9ba04898",
   "metadata": {},
   "outputs": [
    {
     "name": "stdout",
     "output_type": "stream",
     "text": [
      "0 1 1 2 3 5 8 13 "
     ]
    }
   ],
   "source": [
    "#15 A financial tool simulates Fibonacci-like growth in savings. Write a program to generate the Fibonacci sequence up to n terms.\n",
    "n = int(input(\"Enter the number of terms: \"))\n",
    "a, b = 0, 1\n",
    "count = 0\n",
    "while count < n:\n",
    "    print(a, end=' ')\n",
    "    a, b = b, a + b\n",
    "    count += 1\n"
   ]
  },
  {
   "cell_type": "code",
   "execution_count": 14,
   "id": "53e2944e",
   "metadata": {},
   "outputs": [
    {
     "name": "stdout",
     "output_type": "stream",
     "text": [
      "The strings are not anagrams.\n"
     ]
    }
   ],
   "source": [
    "#16 A word puzzle game checks if two words are anagrams (same letters but shuffled). Write a program to check if two strings are anagrams.\n",
    "str1 = input(\"Enter the first string: \")\n",
    "str2 = input(\"Enter the second string: \")\n",
    "if sorted(str1) == sorted(str2):\n",
    "    print(\"The strings are anagrams.\")\n",
    "else:\n",
    "    print(\"The strings are not anagrams.\")"
   ]
  },
  {
   "cell_type": "code",
   "execution_count": 16,
   "id": "6abb9608",
   "metadata": {},
   "outputs": [
    {
     "name": "stdout",
     "output_type": "stream",
     "text": [
      "6 is a perfect number.\n"
     ]
    }
   ],
   "source": [
    "#17 A science experiment needs to verify whether a number is perfect (sum of divisors = number). Write a program to check if a number is a perfect number.\n",
    "num = int(input(\"Enter a number: \"))\n",
    "sum_of_divisors = 0\n",
    "for i in range(1, num):\n",
    "    if num % i == 0:\n",
    "        sum_of_divisors += i\n",
    "if sum_of_divisors == num:\n",
    "    print(num, \"is a perfect number.\")\n",
    "else:\n",
    "    print(num, \"is not a perfect number.\")"
   ]
  },
  {
   "cell_type": "code",
   "execution_count": 17,
   "id": "18af520d",
   "metadata": {},
   "outputs": [
    {
     "name": "stdout",
     "output_type": "stream",
     "text": [
      "Grade: A\n"
     ]
    }
   ],
   "source": [
    "#18 A school report system calculates percentage and assigns grades:\n",
    "\n",
    "# ≥90 → A\n",
    "\n",
    "# ≥75 → B\n",
    "\n",
    "# ≥50 → C\n",
    "\n",
    "# <50 → Fail\n",
    "\n",
    "# Write a program that takes 5 subject marks, calculates percentage, and prints the grade.\n",
    "\n",
    "marks = int(input(\"Enter the marks: \"))\n",
    "if marks >= 90:\n",
    "    print(\"Grade: A\")\n",
    "elif marks >= 75:\n",
    "    print(\"Grade: B\")\n",
    "elif marks >= 50:\n",
    "    print(\"Grade: C\")\n",
    "else:\n",
    "    print(\"Grade: Fail\")"
   ]
  },
  {
   "cell_type": "code",
   "execution_count": 22,
   "id": "5b8b5e50",
   "metadata": {},
   "outputs": [
    {
     "name": "stdout",
     "output_type": "stream",
     "text": [
      "2 3 5 7 11 13 17 19 23 29 31 37 41 43 47 53 59 61 67 71 73 79 83 89 97 "
     ]
    }
   ],
   "source": [
    "# 19.\n",
    "\n",
    "# A mathematics quiz app generates all prime numbers between 1 and 100. Write a program to print all prime numbers in this range.\n",
    "for num in range(1, 101):\n",
    "    if num > 1:\n",
    "        for i in range(2, int(num**0.5) + 1):\n",
    "            if (num % i) == 0:\n",
    "                break\n",
    "        else:\n",
    "            print(num, end=' ')\n"
   ]
  },
  {
   "cell_type": "code",
   "execution_count": 23,
   "id": "607f1a43",
   "metadata": {},
   "outputs": [
    {
     "name": "stdout",
     "output_type": "stream",
     "text": [
      "Number of words in the sentence: 4\n"
     ]
    }
   ],
   "source": [
    "#20 An online editor counts words in an article but doesn’t allow using split(). Write a program to count the number of words in a sentence.\n",
    "sentence = input(\"Enter a sentence: \")\n",
    "word_count = 0\n",
    "in_word = False\n",
    "for char in sentence:\n",
    "    if char.isalnum():\n",
    "        if not in_word:\n",
    "            word_count += 1\n",
    "            in_word = True\n",
    "    else:\n",
    "        in_word = False\n",
    "print(\"Number of words in the sentence:\", word_count)\n",
    "\n"
   ]
  },
  {
   "cell_type": "code",
   "execution_count": null,
   "id": "9e66dffa",
   "metadata": {},
   "outputs": [],
   "source": [
    "# 21. Movie Ticket Discount\n",
    "\n",
    "# A cinema gives a 20% discount if the customer is a student and 10% discount if the customer is a senior citizen (age ≥ 60).\n",
    "# Write a program that takes ticket price, age, and student status (yes/no) as input and prints the final ticket price.\n",
    "\n",
    "ticket_price = float(input(\"Enter: \"))\n",
    "age = int(input(\"Enter age: \"))\n",
    "student_status = input(\"student? (yes/no): \").strip().lower()\n",
    "final_price = ticket_price\n",
    "if student_status == 'yes':\n",
    "    final_price *= 0.8 \n",
    "elif age >= 60:\n",
    "    final_price *= 0.9\n",
    "print(\"The final ticket price is:\", final_price)"
   ]
  },
  {
   "cell_type": "code",
   "execution_count": null,
   "id": "a41dedf8",
   "metadata": {},
   "outputs": [],
   "source": [
    "# 22. Shopping Cart Free Delivery\n",
    "\n",
    "# An e-commerce website gives free delivery if the total cart value is more than ₹500. Otherwise, a delivery charge of ₹50 is applied.\n",
    "# Write a program that takes the cart total as input and prints the final amount payable.\n",
    "\n",
    "cart = float(input(\"Enter: \"))\n",
    "if cart > 500:\n",
    "    final = cart\n",
    "else:\n",
    "    final = cart + 50\n",
    "print(\"The final amount payable is:\", final)\n"
   ]
  },
  {
   "cell_type": "code",
   "execution_count": null,
   "id": "b02b1026",
   "metadata": {},
   "outputs": [],
   "source": [
    "# 23. Marks Grading System\n",
    "\n",
    "# A college follows this grading system:\n",
    "\n",
    "# 90–100: A\n",
    "\n",
    "# 75–89: B\n",
    "\n",
    "# 50–74: C\n",
    "\n",
    "# Below 50: Fail\n",
    "\n",
    "# Write a program that takes marks as input and prints the grade.\n",
    "\n",
    "marks = int(input(\"Enter marks: \"))\n",
    "if marks >= 90:\n",
    "    print(\"Grade: A\")\n",
    "elif marks >= 75:\n",
    "    print(\"Grade: B\")\n",
    "elif marks >= 50:\n",
    "    print(\"Grade: C\")\n",
    "else:\n",
    "    print(\"Grade: Fail\")\n"
   ]
  },
  {
   "cell_type": "code",
   "execution_count": null,
   "id": "d2c90785",
   "metadata": {},
   "outputs": [],
   "source": [
    "# 24. Restaurant Tip Calculator\n",
    "\n",
    "# A restaurant suggests tips based on the bill:\n",
    "\n",
    "# Less than 500 → 5% tip\n",
    "\n",
    "# 500–1000 → 10% tip\n",
    "\n",
    "# More than 1000 → 15% tip\n",
    "# Write a program that takes the bill amount and prints the tip to be added.\n",
    "\n",
    "bill = float(input(\"Enter amount: \"))\n",
    "if bill < 500:\n",
    "    tip = bill * 0.05\n",
    "elif bill <= 1000:\n",
    "    tip = bill * 0.10\n",
    "else:\n",
    "    tip = bill * 0.15\n",
    "print(\"The tip to be added is:\", tip)"
   ]
  },
  {
   "cell_type": "code",
   "execution_count": null,
   "id": "3d87bf73",
   "metadata": {},
   "outputs": [],
   "source": [
    "# 25. Gym Membership Plan\n",
    "\n",
    "# A gym charges:\n",
    "\n",
    "# ₹500 per month\n",
    "\n",
    "# ₹2700 for 6 months (discounted)\n",
    "\n",
    "# ₹5000 for 12 months (discounted)\n",
    "# Write a program where the user enters the membership period (months) and the program prints the cheapest option.\n",
    "\n",
    "months = int(input(\"Enter :\"))\n",
    "if months < 6:\n",
    "    cost = months * 500\n",
    "elif months < 12:\n",
    "    cost = 2700\n",
    "else:\n",
    "    cost = 5000\n",
    "print(\"The cheapest option costs:\", cost)\n"
   ]
  },
  {
   "cell_type": "code",
   "execution_count": 2,
   "id": "40d4ce2b",
   "metadata": {},
   "outputs": [
    {
     "name": "stdout",
     "output_type": "stream",
     "text": [
      "Eligible to sit for the exam.\n"
     ]
    }
   ],
   "source": [
    "# 26. Exam Eligibility\n",
    "\n",
    "# A student must have at least 75% attendance to sit for the exam.\n",
    "# Write a program that takes total classes and classes attended as input and prints whether the student is eligible or not eligible.\n",
    "\n",
    "\n",
    "total_classes = int(input(\"Enter classes: \"))\n",
    "classes_attended = int(input(\"Enter attended: \"))\n",
    "attendance_percentage = (classes_attended / total_classes) * 100\n",
    "if attendance_percentage >= 75:\n",
    "    print(\"Eligible to sit for the exam.\")"
   ]
  },
  {
   "cell_type": "code",
   "execution_count": null,
   "id": "920562e5",
   "metadata": {},
   "outputs": [],
   "source": [
    "# 27. ATM Withdrawal\n",
    "\n",
    "# An ATM only allows withdrawals in multiples of 100.\n",
    "# Write a program that takes the withdrawal amount and prints whether the transaction is successful or failed.\n",
    "withdrawal_amount = int(input(\"Enter amount: \"))\n",
    "if withdrawal_amount % 100 == 0:\n",
    "    print(\"Transaction successful.\")\n",
    "else:\n",
    "    print(\"Transaction failed. Amount must be in multiples of 100.\")\n",
    "\n",
    "    "
   ]
  },
  {
   "cell_type": "code",
   "execution_count": null,
   "id": "3f37c1bd",
   "metadata": {},
   "outputs": [],
   "source": [
    "# 28. Weather Suggestion\n",
    "\n",
    "# Write a program that takes the temperature as input and gives a suggestion:\n",
    "\n",
    "# 35 → \"Too hot, stay indoors!\"\n",
    "\n",
    "# 20–35 → \"Nice weather, go out!\"\n",
    "\n",
    "# < 20 → \"It’s cold, wear warm clothes!\"\n",
    "temperature = float(input(\"Enter temperature: \"))\n",
    "if temperature > 35:\n",
    "    print(\"Too hot, stay indoors!\")\n",
    "elif temperature >= 20:\n",
    "    print(\"Nice weather, go out!\")\n",
    "else:\n",
    "    print(\"It’s cold, wear warm clothes!\")\n",
    "    "
   ]
  },
  {
   "cell_type": "code",
   "execution_count": null,
   "id": "d79249ab",
   "metadata": {},
   "outputs": [],
   "source": [
    "# 29. Library Fine\n",
    "\n",
    "# A library charges a fine for late book returns:\n",
    "\n",
    "# 1–5 days → ₹10\n",
    "\n",
    "# 6–10 days → ₹50\n",
    "\n",
    "# 10 days → ₹100\n",
    "# Write a program that takes the number of late days as input and prints the fine amount.\n",
    "late = int(input(\"Enter:\"))\n",
    "if n<5 and n>1:\n",
    "    print(\"Fine is 10\")\n",
    "elif n<=10 and n>=6:\n",
    "    print(\"Fine is 50\")\n",
    "elif n>10:\n",
    "    print(\"Fine is 100\")\n"
   ]
  },
  {
   "cell_type": "code",
   "execution_count": 24,
   "id": "05f4db91",
   "metadata": {},
   "outputs": [
    {
     "name": "stdout",
     "output_type": "stream",
     "text": [
      "The bill amount is: 2000\n"
     ]
    }
   ],
   "source": [
    "# 30. Electricity Bill Calculator\n",
    "\n",
    "# An electricity board charges:\n",
    "\n",
    "# First 100 units → ₹5 per unit\n",
    "\n",
    "# Next 100 units (101–200) → ₹7 per unit\n",
    "\n",
    "# Above 200 units → ₹10 per unit\n",
    "# Write a program that takes units consumed as input and prints the bill amount.\n",
    "units = int(input(\"Enter :\"))\n",
    "if n<=100:\n",
    "    bill = units * 5\n",
    "elif n<=200 and n>100:\n",
    "    bill = (100 * 5) + (units - 100) * 7\n",
    "else:\n",
    "    bill = (100 * 5) + (100 * 7) + (units - 200) * 10\n",
    "print(\"The bill amount is:\", bill)\n"
   ]
  }
 ],
 "metadata": {
  "kernelspec": {
   "display_name": "Python 3",
   "language": "python",
   "name": "python3"
  },
  "language_info": {
   "codemirror_mode": {
    "name": "ipython",
    "version": 3
   },
   "file_extension": ".py",
   "mimetype": "text/x-python",
   "name": "python",
   "nbconvert_exporter": "python",
   "pygments_lexer": "ipython3",
   "version": "3.11.13"
  }
 },
 "nbformat": 4,
 "nbformat_minor": 5
}
