{
 "cells": [
  {
   "cell_type": "code",
   "execution_count": null,
   "id": "79601832",
   "metadata": {},
   "outputs": [],
   "source": [
    "\n",
    "\n",
    "\n",
    "\n",
    "\n",
    "\n",
    "\n",
    "\n",
    "\n",
    "\n",
    "\n",
    "# 27. ATM Withdrawal\n",
    "\n",
    "# An ATM only allows withdrawals in multiples of 100.\n",
    "# Write a program that takes the withdrawal amount and prints whether the transaction is successful or failed.\n",
    "\n",
    "# 28. Weather Suggestion\n",
    "\n",
    "# Write a program that takes the temperature as input and gives a suggestion:\n",
    "\n",
    "# 35 → \"Too hot, stay indoors!\"\n",
    "\n",
    "# 20–35 → \"Nice weather, go out!\"\n",
    "\n",
    "# < 20 → \"It’s cold, wear warm clothes!\"\n",
    "\n",
    "# 29. Library Fine\n",
    "\n",
    "# A library charges a fine for late book returns:\n",
    "\n",
    "# 1–5 days → ₹10\n",
    "\n",
    "# 6–10 days → ₹50\n",
    "\n",
    "# 10 days → ₹100\n",
    "# Write a program that takes the number of late days as input and prints the fine amount.\n",
    "\n",
    "# 30. Electricity Bill Calculator\n",
    "\n",
    "# An electricity board charges:\n",
    "\n",
    "# First 100 units → ₹5 per unit\n",
    "\n",
    "# Next 100 units (101–200) → ₹7 per unit\n",
    "\n",
    "# Above 200 units → ₹10 per unit\n",
    "# Write a program that takes units consumed as input and prints the bill amount."
   ]
  },
  {
   "cell_type": "code",
   "execution_count": null,
   "id": "f8dd1269",
   "metadata": {},
   "outputs": [
    {
     "ename": "",
     "evalue": "",
     "output_type": "error",
     "traceback": [
      "\u001b[1;31mRunning cells with 'venv (Python 3.11.0)' requires the ipykernel package.\n",
      "\u001b[1;31mInstall 'ipykernel' into the Python environment. \n",
      "\u001b[1;31mCommand: 'conda install -p c:\\Users\\PanasaKamal\\Python Assignments\\venv ipykernel --update-deps --force-reinstall'"
     ]
    }
   ],
   "source": [
    "# A security system checks whether the entered code is prime for extra authentication. Write a program to check if a given number is prime.\n",
    "num = int(input(\"Enter a number: \"))\n",
    "if num > 1:\n",
    "    for i in range(2, int(num**0.5) + 1):\n",
    "        if (num % i) == 0:\n",
    "            print(num, \"is not a prime number\")\n",
    "            break\n",
    "    else:\n",
    "        print(num, \"is a prime number\")"
   ]
  },
  {
   "cell_type": "code",
   "execution_count": null,
   "id": "967c8a95",
   "metadata": {},
   "outputs": [
    {
     "ename": "",
     "evalue": "",
     "output_type": "error",
     "traceback": [
      "\u001b[1;31mRunning cells with 'venv (Python 3.11.0)' requires the ipykernel package.\n",
      "\u001b[1;31mInstall 'ipykernel' into the Python environment. \n",
      "\u001b[1;31mCommand: 'conda install -p c:\\Users\\PanasaKamal\\Python Assignments\\venv ipykernel --update-deps --force-reinstall'"
     ]
    }
   ],
   "source": [
    "#12 In a class test, a teacher wants to know the second highest score among students. Write a program to find the second largest number in a list.\n",
    "list = int (input(\"Enter numbers separated by spaces: \").split())\n",
    "list.sort()\n",
    "print(\"The second largest number is:\", list[-2])"
   ]
  },
  {
   "cell_type": "code",
   "execution_count": null,
   "id": "f17afd07",
   "metadata": {},
   "outputs": [],
   "source": [
    "\n",
    "#13 A fitness app counts only even-numbered steps to calculate “balanced walking.” Write a program to find the sum of even numbers from 1 to 50.\n",
    "sum = 0\n",
    "for i in range(1, 51):\n",
    "    if i % 2 == 0:\n",
    "        sum += i\n",
    "print(\"The sum of even numbers from 1 to 50 is:\", sum)"
   ]
  },
  {
   "cell_type": "code",
   "execution_count": null,
   "id": "15d0ffd5",
   "metadata": {},
   "outputs": [],
   "source": [
    "#14 A typing speed test wants to know how many uppercase and lowercase letters a user typed. Write a program to count uppercase and lowercase characters in a string.\n",
    "lowercase_count = 0\n",
    "uppercase_count = 0\n",
    "string = input(\"Enter a string: \")\n",
    "for char in string:\n",
    "    if char.islower():\n",
    "        lowercase_count += 1\n",
    "    elif char.isupper():\n",
    "        uppercase_count += 1\n",
    "print(\"Lowercase letters:\", lowercase_count)\n",
    "print(\"Uppercase letters:\", uppercase_count)"
   ]
  },
  {
   "cell_type": "code",
   "execution_count": null,
   "id": "9ba04898",
   "metadata": {},
   "outputs": [],
   "source": [
    "#15 A financial tool simulates Fibonacci-like growth in savings. Write a program to generate the Fibonacci sequence up to n terms.\n",
    "n = int(input(\"Enter the number of terms: \"))\n",
    "a, b = 0, 1\n",
    "count = 0\n",
    "while count < n:\n",
    "    print(a, end=' ')\n",
    "    a, b = b, a + b\n",
    "    count += 1\n"
   ]
  },
  {
   "cell_type": "code",
   "execution_count": null,
   "id": "53e2944e",
   "metadata": {},
   "outputs": [],
   "source": [
    "#16 A word puzzle game checks if two words are anagrams (same letters but shuffled). Write a program to check if two strings are anagrams.\n",
    "str1 = input(\"Enter the first string: \")\n",
    "str2 = input(\"Enter the second string: \")\n",
    "if sorted(str1) == sorted(str2):\n",
    "    print(\"The strings are anagrams.\")\n",
    "else:\n",
    "    print(\"The strings are not anagrams.\")"
   ]
  },
  {
   "cell_type": "code",
   "execution_count": null,
   "id": "6abb9608",
   "metadata": {},
   "outputs": [],
   "source": [
    "#17 A science experiment needs to verify whether a number is perfect (sum of divisors = number). Write a program to check if a number is a perfect number.\n",
    "num = int(input(\"Enter a number: \"))\n",
    "sum_of_divisors = 0\n",
    "for i in range(1, num):\n",
    "    if num % i == 0:\n",
    "        sum_of_divisors += i\n",
    "if sum_of_divisors == num:\n",
    "    print(num, \"is a perfect number.\")\n",
    "else:\n",
    "    print(num, \"is not a perfect number.\")"
   ]
  },
  {
   "cell_type": "code",
   "execution_count": null,
   "id": "18af520d",
   "metadata": {},
   "outputs": [],
   "source": [
    "#18 A school report system calculates percentage and assigns grades:\n",
    "\n",
    "# ≥90 → A\n",
    "\n",
    "# ≥75 → B\n",
    "\n",
    "# ≥50 → C\n",
    "\n",
    "# <50 → Fail\n",
    "\n",
    "# Write a program that takes 5 subject marks, calculates percentage, and prints the grade.\n",
    "\n",
    "marks = int(input(\"Enter the marks: \"))\n",
    "if marks >= 90:\n",
    "    print(\"Grade: A\")\n",
    "elif marks >= 75:\n",
    "    print(\"Grade: B\")\n",
    "elif marks >= 50:\n",
    "    print(\"Grade: C\")\n",
    "else:\n",
    "    print(\"Grade: Fail\")"
   ]
  },
  {
   "cell_type": "code",
   "execution_count": null,
   "id": "5b8b5e50",
   "metadata": {},
   "outputs": [],
   "source": [
    "# 19.\n",
    "\n",
    "# A mathematics quiz app generates all prime numbers between 1 and 100. Write a program to print all prime numbers in this range.\n",
    "for num in range(1, 101):\n",
    "    if num > 1:\n",
    "        for i in range(2, int(num**0.5) + 1):\n",
    "            if (num % i) == 0:\n",
    "                break\n",
    "        else:\n",
    "            print(num, end=' ')\n"
   ]
  },
  {
   "cell_type": "code",
   "execution_count": null,
   "id": "607f1a43",
   "metadata": {},
   "outputs": [],
   "source": [
    "#20 An online editor counts words in an article but doesn’t allow using split(). Write a program to count the number of words in a sentence.\n",
    "sentence = input(\"Enter a sentence: \")\n",
    "word_count = 0\n",
    "in_word = False\n",
    "for char in sentence:\n",
    "    if char.isalnum():\n",
    "        if not in_word:\n",
    "            word_count += 1\n",
    "            in_word = True\n",
    "    else:\n",
    "        in_word = False\n",
    "print(\"Number of words in the sentence:\", word_count)\n",
    "\n"
   ]
  },
  {
   "cell_type": "code",
   "execution_count": null,
   "id": "9e66dffa",
   "metadata": {},
   "outputs": [],
   "source": [
    "# 21. Movie Ticket Discount\n",
    "\n",
    "# A cinema gives a 20% discount if the customer is a student and 10% discount if the customer is a senior citizen (age ≥ 60).\n",
    "# Write a program that takes ticket price, age, and student status (yes/no) as input and prints the final ticket price.\n",
    "\n",
    "ticket_price = float(input(\"Enter: \"))\n",
    "age = int(input(\"Enter age: \"))\n",
    "student_status = input(\"student? (yes/no): \").strip().lower()\n",
    "final_price = ticket_price\n",
    "if student_status == 'yes':\n",
    "    final_price *= 0.8 \n",
    "elif age >= 60:\n",
    "    final_price *= 0.9\n",
    "print(\"The final ticket price is:\", final_price)"
   ]
  },
  {
   "cell_type": "code",
   "execution_count": null,
   "id": "a41dedf8",
   "metadata": {},
   "outputs": [],
   "source": [
    "# 22. Shopping Cart Free Delivery\n",
    "\n",
    "# An e-commerce website gives free delivery if the total cart value is more than ₹500. Otherwise, a delivery charge of ₹50 is applied.\n",
    "# Write a program that takes the cart total as input and prints the final amount payable.\n",
    "cart_total = float(input(\"Enter: \"))\n",
    "if cart_total > 500:\n",
    "    final_amount = cart_total\n",
    "else:\n",
    "    final_amount = cart_total + 50\n",
    "print(\"The final amount payable is:\", final_amount)\n"
   ]
  },
  {
   "cell_type": "code",
   "execution_count": null,
   "id": "b02b1026",
   "metadata": {},
   "outputs": [],
   "source": [
    "# 23. Marks Grading System\n",
    "\n",
    "# A college follows this grading system:\n",
    "\n",
    "# 90–100: A\n",
    "\n",
    "# 75–89: B\n",
    "\n",
    "# 50–74: C\n",
    "\n",
    "# Below 50: Fail\n",
    "\n",
    "# Write a program that takes marks as input and prints the grade.\n",
    "\n",
    "marks = int(input(\"Enter marks: \"))\n",
    "if marks >= 90:\n",
    "    print(\"Grade: A\")\n",
    "elif marks >= 75:\n",
    "    print(\"Grade: B\")\n",
    "elif marks >= 50:\n",
    "    print(\"Grade: C\")\n",
    "else:\n",
    "    print(\"Grade: Fail\")\n"
   ]
  },
  {
   "cell_type": "code",
   "execution_count": null,
   "id": "d2c90785",
   "metadata": {},
   "outputs": [],
   "source": [
    "# 24. Restaurant Tip Calculator\n",
    "\n",
    "# A restaurant suggests tips based on the bill:\n",
    "\n",
    "# Less than 500 → 5% tip\n",
    "\n",
    "# 500–1000 → 10% tip\n",
    "\n",
    "# More than 1000 → 15% tip\n",
    "# Write a program that takes the bill amount and prints the tip to be added.\n",
    "\n",
    "bill_amount = float(input(\"Enter amount: \"))\n",
    "if bill_amount < 500:\n",
    "    tip = bill_amount * 0.05\n",
    "elif bill_amount <= 1000:\n",
    "    tip = bill_amount * 0.10\n",
    "else:\n",
    "    tip = bill_amount * 0.15\n",
    "print(\"The tip to be added is:\", tip)"
   ]
  },
  {
   "cell_type": "code",
   "execution_count": null,
   "id": "3d87bf73",
   "metadata": {},
   "outputs": [],
   "source": [
    "# 25. Gym Membership Plan\n",
    "\n",
    "# A gym charges:\n",
    "\n",
    "# ₹500 per month\n",
    "\n",
    "# ₹2700 for 6 months (discounted)\n",
    "\n",
    "# ₹5000 for 12 months (discounted)\n",
    "# Write a program where the user enters the membership period (months) and the program prints the cheapest option.\n",
    "\n",
    "months = int(input(\"Enter :\"))\n",
    "if months < 6:\n",
    "    cost = months * 500\n",
    "elif months < 12:\n",
    "    cost = 2700\n",
    "else:\n",
    "    cost = 5000\n",
    "print(\"The cheapest option costs:\", cost)\n"
   ]
  },
  {
   "cell_type": "code",
   "execution_count": null,
   "id": "40d4ce2b",
   "metadata": {},
   "outputs": [],
   "source": [
    "# 26. Exam Eligibility\n",
    "\n",
    "# A student must have at least 75% attendance to sit for the exam.\n",
    "# Write a program that takes total classes and classes attended as input and prints whether the student is eligible or not eligible.\n",
    "\n",
    "\n",
    "total_classes = int(input(\"Enter classes: \"))\n",
    "classes_attended = int(input(\"Enter attended: \"))\n",
    "attendance_percentage = (classes_attended / total_classes) * 100\n",
    "if attendance_percentage >= 75:\n",
    "    print(\"Eligible to sit for the exam.\")"
   ]
  }
 ],
 "metadata": {
  "kernelspec": {
   "display_name": "venv",
   "language": "python",
   "name": "python3"
  },
  "language_info": {
   "name": "python",
   "version": "3.11.0"
  }
 },
 "nbformat": 4,
 "nbformat_minor": 5
}
